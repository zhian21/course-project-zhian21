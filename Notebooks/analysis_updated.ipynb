{
 "cells": [
  {
   "cell_type": "code",
   "execution_count": 155,
   "metadata": {},
   "outputs": [],
   "source": [
    "# importing library\n",
    "\n",
    "import pandas as pd\n",
    "import seaborn as sns\n",
    "import matplotlib.pyplot as plt\n",
    "import numpy as np\n",
    "from PIL import Image\n",
    "import matplotlib.lines as mlines\n",
    "import plotly.express as px\n",
    "import statsmodels.api as sm\n",
    "import statsmodels.formula.api as smf"
   ]
  },
  {
   "cell_type": "code",
   "execution_count": null,
   "metadata": {},
   "outputs": [],
   "source": [
    "# load images for the screenshots of the GUI\n",
    "image1 = Image.open('1.png')\n",
    "image2 = Image.open('2.png')\n",
    "image3 = Image.open('3.png')\n",
    "\n",
    "total_width = image1.width + image2.width + image3.width\n",
    "max_height = max(image1.height, image2.height, image3.height)\n",
    "\n",
    "new_image = Image.new('RGB', (total_width, max_height), 'white')\n",
    "\n",
    "x_offset = 0\n",
    "for image in [image1, image2, image3]:\n",
    "    new_image.paste(image, (x_offset, 0))\n",
    "    x_offset += image.width\n",
    "\n",
    "# save the combined image\n",
    "new_image.save('combine.png')\n"
   ]
  },
  {
   "cell_type": "code",
   "execution_count": null,
   "metadata": {},
   "outputs": [],
   "source": [
    "image1 = Image.open('1_s.png')\n",
    "image2 = Image.open('2_s.png')\n",
    "image3 = Image.open('3_s.png')\n",
    "\n",
    "total_width = image1.width + image2.width + image3.width\n",
    "max_height = max(image1.height, image2.height, image3.height)\n",
    "\n",
    "new_image = Image.new('RGB', (total_width, max_height), 'white')\n",
    "\n",
    "x_offset = 0\n",
    "for image in [image1, image2, image3]:\n",
    "    new_image.paste(image, (x_offset, 0))\n",
    "    x_offset += image.width\n",
    "\n",
    "# save the combined image\n",
    "new_image.save('combine_2.png')"
   ]
  },
  {
   "cell_type": "code",
   "execution_count": null,
   "metadata": {},
   "outputs": [],
   "source": [
    "# the image for the GUI stimulations\n",
    "\n",
    "image1 = Image.open('combine.png')\n",
    "image2 = Image.open('combine_2.png')\n",
    "\n",
    "new_width = image1.width\n",
    "new_height = int((new_width / image2.width) * image2.height)\n",
    "\n",
    "image2_resized = image2.resize((new_width, new_height), Image.ANTIALIAS)\n",
    "\n",
    "total_height = image1.height + image2_resized.height\n",
    "\n",
    "new_image = Image.new('RGB', (new_width, total_height), 'white')\n",
    "\n",
    "new_image.paste(image1, (0, 0))\n",
    "\n",
    "new_image.paste(image2_resized, (0, image1.height))\n",
    "\n",
    "# save the final combined image\n",
    "new_image.save('final_combined.png')"
   ]
  },
  {
   "cell_type": "code",
   "execution_count": 146,
   "metadata": {},
   "outputs": [
    {
     "name": "stdout",
     "output_type": "stream",
     "text": [
      "(301537, 19)\n"
     ]
    },
    {
     "data": {
      "text/html": [
       "<div>\n",
       "<style scoped>\n",
       "    .dataframe tbody tr th:only-of-type {\n",
       "        vertical-align: middle;\n",
       "    }\n",
       "\n",
       "    .dataframe tbody tr th {\n",
       "        vertical-align: top;\n",
       "    }\n",
       "\n",
       "    .dataframe thead th {\n",
       "        text-align: right;\n",
       "    }\n",
       "</style>\n",
       "<table border=\"1\" class=\"dataframe\">\n",
       "  <thead>\n",
       "    <tr style=\"text-align: right;\">\n",
       "      <th></th>\n",
       "      <th>Unnamed: 0</th>\n",
       "      <th>RunId</th>\n",
       "      <th>iteration</th>\n",
       "      <th>Step</th>\n",
       "      <th>initial_cooperate_prob</th>\n",
       "      <th>payoff_CC</th>\n",
       "      <th>payoff_CD</th>\n",
       "      <th>payoff_DC</th>\n",
       "      <th>payoff_DD</th>\n",
       "      <th>primary_ratio</th>\n",
       "      <th>primary_strategy</th>\n",
       "      <th>Frequency Dependent Agents</th>\n",
       "      <th>Success Base Agents</th>\n",
       "      <th>Random Copying Agents</th>\n",
       "      <th>Average Score(Frequency Dependent)</th>\n",
       "      <th>Average Score(Success Base)</th>\n",
       "      <th>Average Score(Random Copying)</th>\n",
       "      <th>Defecting Agents</th>\n",
       "      <th>Cooperating Agents</th>\n",
       "    </tr>\n",
       "  </thead>\n",
       "  <tbody>\n",
       "    <tr>\n",
       "      <th>301532</th>\n",
       "      <td>301532</td>\n",
       "      <td>58319</td>\n",
       "      <td>29</td>\n",
       "      <td>0</td>\n",
       "      <td>0.75</td>\n",
       "      <td>5</td>\n",
       "      <td>1</td>\n",
       "      <td>5</td>\n",
       "      <td>0</td>\n",
       "      <td>0.73</td>\n",
       "      <td>Random Copying</td>\n",
       "      <td>337</td>\n",
       "      <td>337</td>\n",
       "      <td>1826</td>\n",
       "      <td>0.000000</td>\n",
       "      <td>0.000000</td>\n",
       "      <td>0.000000</td>\n",
       "      <td>615</td>\n",
       "      <td>1885</td>\n",
       "    </tr>\n",
       "    <tr>\n",
       "      <th>301533</th>\n",
       "      <td>301533</td>\n",
       "      <td>58319</td>\n",
       "      <td>29</td>\n",
       "      <td>5</td>\n",
       "      <td>0.75</td>\n",
       "      <td>5</td>\n",
       "      <td>1</td>\n",
       "      <td>5</td>\n",
       "      <td>0</td>\n",
       "      <td>0.73</td>\n",
       "      <td>Random Copying</td>\n",
       "      <td>337</td>\n",
       "      <td>337</td>\n",
       "      <td>1826</td>\n",
       "      <td>184.498516</td>\n",
       "      <td>183.002967</td>\n",
       "      <td>183.849398</td>\n",
       "      <td>90</td>\n",
       "      <td>2410</td>\n",
       "    </tr>\n",
       "    <tr>\n",
       "      <th>301534</th>\n",
       "      <td>301534</td>\n",
       "      <td>58319</td>\n",
       "      <td>29</td>\n",
       "      <td>10</td>\n",
       "      <td>0.75</td>\n",
       "      <td>5</td>\n",
       "      <td>1</td>\n",
       "      <td>5</td>\n",
       "      <td>0</td>\n",
       "      <td>0.73</td>\n",
       "      <td>Random Copying</td>\n",
       "      <td>337</td>\n",
       "      <td>337</td>\n",
       "      <td>1826</td>\n",
       "      <td>382.234421</td>\n",
       "      <td>380.513353</td>\n",
       "      <td>380.681818</td>\n",
       "      <td>25</td>\n",
       "      <td>2475</td>\n",
       "    </tr>\n",
       "    <tr>\n",
       "      <th>301535</th>\n",
       "      <td>301535</td>\n",
       "      <td>58319</td>\n",
       "      <td>29</td>\n",
       "      <td>15</td>\n",
       "      <td>0.75</td>\n",
       "      <td>5</td>\n",
       "      <td>1</td>\n",
       "      <td>5</td>\n",
       "      <td>0</td>\n",
       "      <td>0.73</td>\n",
       "      <td>Random Copying</td>\n",
       "      <td>337</td>\n",
       "      <td>337</td>\n",
       "      <td>1826</td>\n",
       "      <td>581.234421</td>\n",
       "      <td>579.712166</td>\n",
       "      <td>579.008762</td>\n",
       "      <td>7</td>\n",
       "      <td>2493</td>\n",
       "    </tr>\n",
       "    <tr>\n",
       "      <th>301536</th>\n",
       "      <td>301536</td>\n",
       "      <td>58319</td>\n",
       "      <td>29</td>\n",
       "      <td>20</td>\n",
       "      <td>0.75</td>\n",
       "      <td>5</td>\n",
       "      <td>1</td>\n",
       "      <td>5</td>\n",
       "      <td>0</td>\n",
       "      <td>0.73</td>\n",
       "      <td>Random Copying</td>\n",
       "      <td>337</td>\n",
       "      <td>337</td>\n",
       "      <td>1826</td>\n",
       "      <td>781.163205</td>\n",
       "      <td>779.569733</td>\n",
       "      <td>778.576123</td>\n",
       "      <td>4</td>\n",
       "      <td>2496</td>\n",
       "    </tr>\n",
       "  </tbody>\n",
       "</table>\n",
       "</div>"
      ],
      "text/plain": [
       "        Unnamed: 0  RunId  iteration  Step  initial_cooperate_prob  payoff_CC  \\\n",
       "301532      301532  58319         29     0                    0.75          5   \n",
       "301533      301533  58319         29     5                    0.75          5   \n",
       "301534      301534  58319         29    10                    0.75          5   \n",
       "301535      301535  58319         29    15                    0.75          5   \n",
       "301536      301536  58319         29    20                    0.75          5   \n",
       "\n",
       "        payoff_CD  payoff_DC  payoff_DD  primary_ratio primary_strategy  \\\n",
       "301532          1          5          0           0.73   Random Copying   \n",
       "301533          1          5          0           0.73   Random Copying   \n",
       "301534          1          5          0           0.73   Random Copying   \n",
       "301535          1          5          0           0.73   Random Copying   \n",
       "301536          1          5          0           0.73   Random Copying   \n",
       "\n",
       "        Frequency Dependent Agents  Success Base Agents  \\\n",
       "301532                         337                  337   \n",
       "301533                         337                  337   \n",
       "301534                         337                  337   \n",
       "301535                         337                  337   \n",
       "301536                         337                  337   \n",
       "\n",
       "        Random Copying Agents  Average Score(Frequency Dependent)  \\\n",
       "301532                   1826                            0.000000   \n",
       "301533                   1826                          184.498516   \n",
       "301534                   1826                          382.234421   \n",
       "301535                   1826                          581.234421   \n",
       "301536                   1826                          781.163205   \n",
       "\n",
       "        Average Score(Success Base)  Average Score(Random Copying)  \\\n",
       "301532                     0.000000                       0.000000   \n",
       "301533                   183.002967                     183.849398   \n",
       "301534                   380.513353                     380.681818   \n",
       "301535                   579.712166                     579.008762   \n",
       "301536                   779.569733                     778.576123   \n",
       "\n",
       "        Defecting Agents  Cooperating Agents  \n",
       "301532               615                1885  \n",
       "301533                90                2410  \n",
       "301534                25                2475  \n",
       "301535                 7                2493  \n",
       "301536                 4                2496  "
      ]
     },
     "execution_count": 146,
     "metadata": {},
     "output_type": "execute_result"
    }
   ],
   "source": [
    "# import the batch run data\n",
    "df = pd.read_csv('batch_run_results_2.csv')\n",
    "print(df.shape)\n",
    "df.tail()"
   ]
  },
  {
   "cell_type": "code",
   "execution_count": 147,
   "metadata": {},
   "outputs": [
    {
     "data": {
      "text/plain": [
       "1944"
      ]
     },
     "execution_count": 147,
     "metadata": {},
     "output_type": "execute_result"
    }
   ],
   "source": [
    "total_combinations = len(df.groupby(['initial_cooperate_prob', 'payoff_CC', 'payoff_CD', 'payoff_DC', 'payoff_DD', 'primary_ratio', 'primary_strategy']))\n",
    "total_combinations"
   ]
  },
  {
   "cell_type": "code",
   "execution_count": 156,
   "metadata": {},
   "outputs": [
    {
     "data": {
      "text/html": [
       "<div>\n",
       "<style scoped>\n",
       "    .dataframe tbody tr th:only-of-type {\n",
       "        vertical-align: middle;\n",
       "    }\n",
       "\n",
       "    .dataframe tbody tr th {\n",
       "        vertical-align: top;\n",
       "    }\n",
       "\n",
       "    .dataframe thead th {\n",
       "        text-align: right;\n",
       "    }\n",
       "</style>\n",
       "<table border=\"1\" class=\"dataframe\">\n",
       "  <thead>\n",
       "    <tr style=\"text-align: right;\">\n",
       "      <th></th>\n",
       "      <th>Unnamed: 0</th>\n",
       "      <th>RunId</th>\n",
       "      <th>iteration</th>\n",
       "      <th>Step</th>\n",
       "      <th>initial_cooperate_prob</th>\n",
       "      <th>payoff_CC</th>\n",
       "      <th>payoff_CD</th>\n",
       "      <th>payoff_DC</th>\n",
       "      <th>payoff_DD</th>\n",
       "      <th>primary_ratio</th>\n",
       "      <th>primary_strategy</th>\n",
       "      <th>Frequency Dependent Agents</th>\n",
       "      <th>Success Base Agents</th>\n",
       "      <th>Random Copying Agents</th>\n",
       "      <th>Average Score(Frequency Dependent)</th>\n",
       "      <th>Average Score(Success Base)</th>\n",
       "      <th>Average Score(Random Copying)</th>\n",
       "      <th>Defecting Agents</th>\n",
       "      <th>Cooperating Agents</th>\n",
       "      <th>Game_Type</th>\n",
       "    </tr>\n",
       "  </thead>\n",
       "  <tbody>\n",
       "    <tr>\n",
       "      <th>0</th>\n",
       "      <td>0</td>\n",
       "      <td>3</td>\n",
       "      <td>0</td>\n",
       "      <td>0</td>\n",
       "      <td>0.25</td>\n",
       "      <td>0</td>\n",
       "      <td>0</td>\n",
       "      <td>0</td>\n",
       "      <td>0</td>\n",
       "      <td>0.530000</td>\n",
       "      <td>Frequency Dependent Learning</td>\n",
       "      <td>1325</td>\n",
       "      <td>587</td>\n",
       "      <td>588</td>\n",
       "      <td>0.000000</td>\n",
       "      <td>0.000000</td>\n",
       "      <td>0.000000</td>\n",
       "      <td>1890</td>\n",
       "      <td>610</td>\n",
       "      <td>No Incentive</td>\n",
       "    </tr>\n",
       "    <tr>\n",
       "      <th>1</th>\n",
       "      <td>1</td>\n",
       "      <td>3</td>\n",
       "      <td>0</td>\n",
       "      <td>5</td>\n",
       "      <td>0.25</td>\n",
       "      <td>0</td>\n",
       "      <td>0</td>\n",
       "      <td>0</td>\n",
       "      <td>0</td>\n",
       "      <td>0.530000</td>\n",
       "      <td>Frequency Dependent Learning</td>\n",
       "      <td>1325</td>\n",
       "      <td>587</td>\n",
       "      <td>588</td>\n",
       "      <td>0.000000</td>\n",
       "      <td>0.000000</td>\n",
       "      <td>0.000000</td>\n",
       "      <td>2497</td>\n",
       "      <td>3</td>\n",
       "      <td>No Incentive</td>\n",
       "    </tr>\n",
       "    <tr>\n",
       "      <th>2</th>\n",
       "      <td>2</td>\n",
       "      <td>1</td>\n",
       "      <td>0</td>\n",
       "      <td>0</td>\n",
       "      <td>0.25</td>\n",
       "      <td>0</td>\n",
       "      <td>0</td>\n",
       "      <td>0</td>\n",
       "      <td>0</td>\n",
       "      <td>0.333333</td>\n",
       "      <td>Success Base Learning</td>\n",
       "      <td>833</td>\n",
       "      <td>833</td>\n",
       "      <td>834</td>\n",
       "      <td>0.000000</td>\n",
       "      <td>0.000000</td>\n",
       "      <td>0.000000</td>\n",
       "      <td>1869</td>\n",
       "      <td>631</td>\n",
       "      <td>No Incentive</td>\n",
       "    </tr>\n",
       "    <tr>\n",
       "      <th>3</th>\n",
       "      <td>3</td>\n",
       "      <td>1</td>\n",
       "      <td>0</td>\n",
       "      <td>5</td>\n",
       "      <td>0.25</td>\n",
       "      <td>0</td>\n",
       "      <td>0</td>\n",
       "      <td>0</td>\n",
       "      <td>0</td>\n",
       "      <td>0.333333</td>\n",
       "      <td>Success Base Learning</td>\n",
       "      <td>833</td>\n",
       "      <td>833</td>\n",
       "      <td>834</td>\n",
       "      <td>0.000000</td>\n",
       "      <td>0.000000</td>\n",
       "      <td>0.000000</td>\n",
       "      <td>2426</td>\n",
       "      <td>74</td>\n",
       "      <td>No Incentive</td>\n",
       "    </tr>\n",
       "    <tr>\n",
       "      <th>4</th>\n",
       "      <td>4</td>\n",
       "      <td>1</td>\n",
       "      <td>0</td>\n",
       "      <td>10</td>\n",
       "      <td>0.25</td>\n",
       "      <td>0</td>\n",
       "      <td>0</td>\n",
       "      <td>0</td>\n",
       "      <td>0</td>\n",
       "      <td>0.333333</td>\n",
       "      <td>Success Base Learning</td>\n",
       "      <td>833</td>\n",
       "      <td>833</td>\n",
       "      <td>834</td>\n",
       "      <td>0.000000</td>\n",
       "      <td>0.000000</td>\n",
       "      <td>0.000000</td>\n",
       "      <td>2483</td>\n",
       "      <td>17</td>\n",
       "      <td>No Incentive</td>\n",
       "    </tr>\n",
       "    <tr>\n",
       "      <th>...</th>\n",
       "      <td>...</td>\n",
       "      <td>...</td>\n",
       "      <td>...</td>\n",
       "      <td>...</td>\n",
       "      <td>...</td>\n",
       "      <td>...</td>\n",
       "      <td>...</td>\n",
       "      <td>...</td>\n",
       "      <td>...</td>\n",
       "      <td>...</td>\n",
       "      <td>...</td>\n",
       "      <td>...</td>\n",
       "      <td>...</td>\n",
       "      <td>...</td>\n",
       "      <td>...</td>\n",
       "      <td>...</td>\n",
       "      <td>...</td>\n",
       "      <td>...</td>\n",
       "      <td>...</td>\n",
       "      <td>...</td>\n",
       "    </tr>\n",
       "    <tr>\n",
       "      <th>301532</th>\n",
       "      <td>301532</td>\n",
       "      <td>58319</td>\n",
       "      <td>29</td>\n",
       "      <td>0</td>\n",
       "      <td>0.75</td>\n",
       "      <td>5</td>\n",
       "      <td>1</td>\n",
       "      <td>5</td>\n",
       "      <td>0</td>\n",
       "      <td>0.730000</td>\n",
       "      <td>Random Copying</td>\n",
       "      <td>337</td>\n",
       "      <td>337</td>\n",
       "      <td>1826</td>\n",
       "      <td>0.000000</td>\n",
       "      <td>0.000000</td>\n",
       "      <td>0.000000</td>\n",
       "      <td>615</td>\n",
       "      <td>1885</td>\n",
       "      <td>Advanced Prisoner's Dilemma</td>\n",
       "    </tr>\n",
       "    <tr>\n",
       "      <th>301533</th>\n",
       "      <td>301533</td>\n",
       "      <td>58319</td>\n",
       "      <td>29</td>\n",
       "      <td>5</td>\n",
       "      <td>0.75</td>\n",
       "      <td>5</td>\n",
       "      <td>1</td>\n",
       "      <td>5</td>\n",
       "      <td>0</td>\n",
       "      <td>0.730000</td>\n",
       "      <td>Random Copying</td>\n",
       "      <td>337</td>\n",
       "      <td>337</td>\n",
       "      <td>1826</td>\n",
       "      <td>184.498516</td>\n",
       "      <td>183.002967</td>\n",
       "      <td>183.849398</td>\n",
       "      <td>90</td>\n",
       "      <td>2410</td>\n",
       "      <td>Advanced Prisoner's Dilemma</td>\n",
       "    </tr>\n",
       "    <tr>\n",
       "      <th>301534</th>\n",
       "      <td>301534</td>\n",
       "      <td>58319</td>\n",
       "      <td>29</td>\n",
       "      <td>10</td>\n",
       "      <td>0.75</td>\n",
       "      <td>5</td>\n",
       "      <td>1</td>\n",
       "      <td>5</td>\n",
       "      <td>0</td>\n",
       "      <td>0.730000</td>\n",
       "      <td>Random Copying</td>\n",
       "      <td>337</td>\n",
       "      <td>337</td>\n",
       "      <td>1826</td>\n",
       "      <td>382.234421</td>\n",
       "      <td>380.513353</td>\n",
       "      <td>380.681818</td>\n",
       "      <td>25</td>\n",
       "      <td>2475</td>\n",
       "      <td>Advanced Prisoner's Dilemma</td>\n",
       "    </tr>\n",
       "    <tr>\n",
       "      <th>301535</th>\n",
       "      <td>301535</td>\n",
       "      <td>58319</td>\n",
       "      <td>29</td>\n",
       "      <td>15</td>\n",
       "      <td>0.75</td>\n",
       "      <td>5</td>\n",
       "      <td>1</td>\n",
       "      <td>5</td>\n",
       "      <td>0</td>\n",
       "      <td>0.730000</td>\n",
       "      <td>Random Copying</td>\n",
       "      <td>337</td>\n",
       "      <td>337</td>\n",
       "      <td>1826</td>\n",
       "      <td>581.234421</td>\n",
       "      <td>579.712166</td>\n",
       "      <td>579.008762</td>\n",
       "      <td>7</td>\n",
       "      <td>2493</td>\n",
       "      <td>Advanced Prisoner's Dilemma</td>\n",
       "    </tr>\n",
       "    <tr>\n",
       "      <th>301536</th>\n",
       "      <td>301536</td>\n",
       "      <td>58319</td>\n",
       "      <td>29</td>\n",
       "      <td>20</td>\n",
       "      <td>0.75</td>\n",
       "      <td>5</td>\n",
       "      <td>1</td>\n",
       "      <td>5</td>\n",
       "      <td>0</td>\n",
       "      <td>0.730000</td>\n",
       "      <td>Random Copying</td>\n",
       "      <td>337</td>\n",
       "      <td>337</td>\n",
       "      <td>1826</td>\n",
       "      <td>781.163205</td>\n",
       "      <td>779.569733</td>\n",
       "      <td>778.576123</td>\n",
       "      <td>4</td>\n",
       "      <td>2496</td>\n",
       "      <td>Advanced Prisoner's Dilemma</td>\n",
       "    </tr>\n",
       "  </tbody>\n",
       "</table>\n",
       "<p>301537 rows × 20 columns</p>\n",
       "</div>"
      ],
      "text/plain": [
       "        Unnamed: 0  RunId  iteration  Step  initial_cooperate_prob  payoff_CC  \\\n",
       "0                0      3          0     0                    0.25          0   \n",
       "1                1      3          0     5                    0.25          0   \n",
       "2                2      1          0     0                    0.25          0   \n",
       "3                3      1          0     5                    0.25          0   \n",
       "4                4      1          0    10                    0.25          0   \n",
       "...            ...    ...        ...   ...                     ...        ...   \n",
       "301532      301532  58319         29     0                    0.75          5   \n",
       "301533      301533  58319         29     5                    0.75          5   \n",
       "301534      301534  58319         29    10                    0.75          5   \n",
       "301535      301535  58319         29    15                    0.75          5   \n",
       "301536      301536  58319         29    20                    0.75          5   \n",
       "\n",
       "        payoff_CD  payoff_DC  payoff_DD  primary_ratio  \\\n",
       "0               0          0          0       0.530000   \n",
       "1               0          0          0       0.530000   \n",
       "2               0          0          0       0.333333   \n",
       "3               0          0          0       0.333333   \n",
       "4               0          0          0       0.333333   \n",
       "...           ...        ...        ...            ...   \n",
       "301532          1          5          0       0.730000   \n",
       "301533          1          5          0       0.730000   \n",
       "301534          1          5          0       0.730000   \n",
       "301535          1          5          0       0.730000   \n",
       "301536          1          5          0       0.730000   \n",
       "\n",
       "                    primary_strategy  Frequency Dependent Agents  \\\n",
       "0       Frequency Dependent Learning                        1325   \n",
       "1       Frequency Dependent Learning                        1325   \n",
       "2              Success Base Learning                         833   \n",
       "3              Success Base Learning                         833   \n",
       "4              Success Base Learning                         833   \n",
       "...                              ...                         ...   \n",
       "301532                Random Copying                         337   \n",
       "301533                Random Copying                         337   \n",
       "301534                Random Copying                         337   \n",
       "301535                Random Copying                         337   \n",
       "301536                Random Copying                         337   \n",
       "\n",
       "        Success Base Agents  Random Copying Agents  \\\n",
       "0                       587                    588   \n",
       "1                       587                    588   \n",
       "2                       833                    834   \n",
       "3                       833                    834   \n",
       "4                       833                    834   \n",
       "...                     ...                    ...   \n",
       "301532                  337                   1826   \n",
       "301533                  337                   1826   \n",
       "301534                  337                   1826   \n",
       "301535                  337                   1826   \n",
       "301536                  337                   1826   \n",
       "\n",
       "        Average Score(Frequency Dependent)  Average Score(Success Base)  \\\n",
       "0                                 0.000000                     0.000000   \n",
       "1                                 0.000000                     0.000000   \n",
       "2                                 0.000000                     0.000000   \n",
       "3                                 0.000000                     0.000000   \n",
       "4                                 0.000000                     0.000000   \n",
       "...                                    ...                          ...   \n",
       "301532                            0.000000                     0.000000   \n",
       "301533                          184.498516                   183.002967   \n",
       "301534                          382.234421                   380.513353   \n",
       "301535                          581.234421                   579.712166   \n",
       "301536                          781.163205                   779.569733   \n",
       "\n",
       "        Average Score(Random Copying)  Defecting Agents  Cooperating Agents  \\\n",
       "0                            0.000000              1890                 610   \n",
       "1                            0.000000              2497                   3   \n",
       "2                            0.000000              1869                 631   \n",
       "3                            0.000000              2426                  74   \n",
       "4                            0.000000              2483                  17   \n",
       "...                               ...               ...                 ...   \n",
       "301532                       0.000000               615                1885   \n",
       "301533                     183.849398                90                2410   \n",
       "301534                     380.681818                25                2475   \n",
       "301535                     579.008762                 7                2493   \n",
       "301536                     778.576123                 4                2496   \n",
       "\n",
       "                          Game_Type  \n",
       "0                      No Incentive  \n",
       "1                      No Incentive  \n",
       "2                      No Incentive  \n",
       "3                      No Incentive  \n",
       "4                      No Incentive  \n",
       "...                             ...  \n",
       "301532  Advanced Prisoner's Dilemma  \n",
       "301533  Advanced Prisoner's Dilemma  \n",
       "301534  Advanced Prisoner's Dilemma  \n",
       "301535  Advanced Prisoner's Dilemma  \n",
       "301536  Advanced Prisoner's Dilemma  \n",
       "\n",
       "[301537 rows x 20 columns]"
      ]
     },
     "metadata": {},
     "output_type": "display_data"
    }
   ],
   "source": [
    "# define a function to categorize the payoffs\n",
    "def categorize_payoff(row):\n",
    "    if row['payoff_CC'] == row['payoff_CD'] == row['payoff_DC'] == row['payoff_DD']:\n",
    "        return 'No Incentive'\n",
    "    elif row['payoff_DC'] > row['payoff_CC'] > row['payoff_DD'] >= row['payoff_CD']:\n",
    "        return 'Traditional Prisoner\\'s Dilemma'\n",
    "    elif row['payoff_CC'] > row['payoff_DC'] > row['payoff_DD'] >= row['payoff_CD']:\n",
    "        return 'Stag Hunt'\n",
    "    else:\n",
    "        return 'Advanced Prisoner\\'s Dilemma'\n",
    "\n",
    "# apply the categorization function\n",
    "df['Game_Type'] = df.apply(categorize_payoff, axis=1)\n",
    "display(df)\n"
   ]
  },
  {
   "cell_type": "code",
   "execution_count": 157,
   "metadata": {},
   "outputs": [
    {
     "name": "stdout",
     "output_type": "stream",
     "text": [
      "All payoff structures have been categorized.\n"
     ]
    }
   ],
   "source": [
    "# check for any rows that do not have a defined category\n",
    "undefined_categories = df[df['Game_Type'].isnull()]\n",
    "\n",
    "if not undefined_categories.empty:\n",
    "    print(\"There are undefined categories in the following rows:\")\n",
    "    print(undefined_categories)\n",
    "else:\n",
    "    print(\"All payoff structures have been categorized.\")"
   ]
  },
  {
   "cell_type": "code",
   "execution_count": 158,
   "metadata": {},
   "outputs": [
    {
     "data": {
      "text/plain": [
       "(Average Score(Frequency Dependent)    226.802234\n",
       " Average Score(Success Base)           247.181916\n",
       " Average Score(Random Copying)         235.065645\n",
       " dtype: float64,\n",
       " Average Score(Frequency Dependent)    265.447074\n",
       " Average Score(Success Base)           277.791157\n",
       " Average Score(Random Copying)         269.670965\n",
       " dtype: float64)"
      ]
     },
     "execution_count": 158,
     "metadata": {},
     "output_type": "execute_result"
    }
   ],
   "source": [
    "# Average Score Calculation:\n",
    "\n",
    "# At the end of each iteration of the simulation, the score for each agent is calculated based on the interactions it had with other agents according to the Prisoner's Dilemma payoff matrix.\n",
    "# For each agent strategy (Frequency Dependent, Success Base, Random Copying), the score is the cumulative result of all games played by agents employing that strategy during the simulation step.\n",
    "# The average score for a strategy at a specific step is the total score of all agents using that strategy divided by the number of agents employing that strategy.\n",
    "# Mean Score Across Iterations:\n",
    "# When analyzing results across multiple iterations or simulation runs, the average score for each strategy at the last step of each iteration is first calculated.\n",
    "# These average scores are then aggregated over all iterations for a particular set of simulation parameters (like initial cooperation probability, payoff values, primary ratio, etc.).\n",
    "# The mean of these aggregated average scores is then computed, providing a measure of how effective the strategy tends to be under specific conditions, averaged over several experimental runs.\n",
    "# Standard Deviation of Scores:\n",
    "# The standard deviation alongside the mean provides insights into the variability of scores for each strategy across different iterations.\n",
    "# A lower standard deviation indicates that the scores are more consistent across different runs, suggesting a stable strategy performance under the given parameters.\n",
    "# Conversely, a high standard deviation indicates more variability, suggesting the strategy's performance might be more sensitive to initial conditions or stochastic elements of the simulation.\n",
    "# Overall Mean and Standard Deviation:\n",
    "# After calculating the mean and standard deviation for each strategy across various parameter combinations, you can also compute the overall mean and standard deviation across all combinations.\n",
    "# This \"overall\" metric provides a general sense of how each strategy performs on average across all tested scenarios, giving a broad view of strategy efficacy.\n",
    "\n",
    "\n",
    "last_steps = df.groupby(['RunId', 'iteration']).agg({'Step': 'max'}).reset_index()\n",
    "\n",
    "# merge this back to the original DataFrame to get the rows corresponding to the last steps of each iteration\n",
    "last_steps = pd.merge(df, last_steps, how='inner', on=['RunId', 'iteration', 'Step'])\n",
    "\n",
    "# group by all parameters and primary strategy, then calculate the mean and standard deviation of average scores\n",
    "grouped = last_steps.groupby(['initial_cooperate_prob', 'payoff_CC', 'payoff_CD', 'payoff_DC', 'payoff_DD', 'primary_ratio', 'primary_strategy'])\n",
    "mean_scores = grouped[['Average Score(Frequency Dependent)', 'Average Score(Success Base)', 'Average Score(Random Copying)']].mean()\n",
    "std_scores = grouped[['Average Score(Frequency Dependent)', 'Average Score(Success Base)', 'Average Score(Random Copying)']].std()\n",
    "\n",
    "# the overall mean and standard deviation across all combinations for each strategy\n",
    "overall_mean = mean_scores.mean()\n",
    "overall_std = mean_scores.std()\n",
    "\n",
    "overall_mean, overall_std"
   ]
  },
  {
   "cell_type": "code",
   "execution_count": 159,
   "metadata": {},
   "outputs": [
    {
     "data": {
      "text/html": [
       "<div>\n",
       "<style scoped>\n",
       "    .dataframe tbody tr th:only-of-type {\n",
       "        vertical-align: middle;\n",
       "    }\n",
       "\n",
       "    .dataframe tbody tr th {\n",
       "        vertical-align: top;\n",
       "    }\n",
       "\n",
       "    .dataframe thead th {\n",
       "        text-align: right;\n",
       "    }\n",
       "</style>\n",
       "<table border=\"1\" class=\"dataframe\">\n",
       "  <thead>\n",
       "    <tr style=\"text-align: right;\">\n",
       "      <th></th>\n",
       "      <th>Statistic</th>\n",
       "      <th>Average(Std)</th>\n",
       "    </tr>\n",
       "  </thead>\n",
       "  <tbody>\n",
       "    <tr>\n",
       "      <th>0</th>\n",
       "      <td>Average Score (Frequency Dependent)</td>\n",
       "      <td>226.80 (265.45)</td>\n",
       "    </tr>\n",
       "    <tr>\n",
       "      <th>1</th>\n",
       "      <td>Average Score (Success Base)</td>\n",
       "      <td>247.18 (277.79)</td>\n",
       "    </tr>\n",
       "    <tr>\n",
       "      <th>2</th>\n",
       "      <td>Average Score (Random Copying)</td>\n",
       "      <td>235.07 (269.67)</td>\n",
       "    </tr>\n",
       "    <tr>\n",
       "      <th>3</th>\n",
       "      <td>Proportion of Cooperating Agents</td>\n",
       "      <td>0.7102 (0.4254)</td>\n",
       "    </tr>\n",
       "  </tbody>\n",
       "</table>\n",
       "</div>"
      ],
      "text/plain": [
       "                             Statistic     Average(Std)\n",
       "0  Average Score (Frequency Dependent)  226.80 (265.45)\n",
       "1         Average Score (Success Base)  247.18 (277.79)\n",
       "2       Average Score (Random Copying)  235.07 (269.67)\n",
       "3     Proportion of Cooperating Agents  0.7102 (0.4254)"
      ]
     },
     "metadata": {},
     "output_type": "display_data"
    }
   ],
   "source": [
    "# displaying the formatted table\n",
    "\n",
    "grouped = last_steps.groupby(['initial_cooperate_prob', 'payoff_CC', 'payoff_CD', 'payoff_DC', 'payoff_DD', 'primary_ratio', 'primary_strategy', 'Game_Type']).agg({\n",
    "    'Average Score(Frequency Dependent)': 'mean',\n",
    "    'Average Score(Success Base)': 'mean',\n",
    "    'Average Score(Random Copying)': 'mean',\n",
    "    'Cooperating Agents': 'mean',\n",
    "    'Defecting Agents': 'mean'\n",
    "}).reset_index()\n",
    "\n",
    "# calculate the total number of agents\n",
    "total_agents = grouped['Cooperating Agents'] + grouped['Defecting Agents']\n",
    "grouped['Proportion of Cooperating Agents'] = grouped['Cooperating Agents'] / total_agents\n",
    "\n",
    "# calculate the overall mean and standard deviation across all combinations for each strategy\n",
    "final_means = grouped[['Average Score(Frequency Dependent)', 'Average Score(Success Base)', \n",
    "                       'Average Score(Random Copying)', 'Proportion of Cooperating Agents']].mean()\n",
    "final_stds = grouped[['Average Score(Frequency Dependent)', 'Average Score(Success Base)', \n",
    "                      'Average Score(Random Copying)', 'Proportion of Cooperating Agents']].std()\n",
    "\n",
    "# format the final results\n",
    "formatted_results = {\n",
    "    'Statistic': ['Average Score (Frequency Dependent)', 'Average Score (Success Base)', 'Average Score (Random Copying)', 'Proportion of Cooperating Agents'],\n",
    "    'Average(Std)': [\n",
    "        f\"{final_means['Average Score(Frequency Dependent)']:.2f} ({final_stds['Average Score(Frequency Dependent)']:.2f})\",\n",
    "        f\"{final_means['Average Score(Success Base)']:.2f} ({final_stds['Average Score(Success Base)']:.2f})\",\n",
    "        f\"{final_means['Average Score(Random Copying)']:.2f} ({final_stds['Average Score(Random Copying)']:.2f})\",\n",
    "        f\"{final_means['Proportion of Cooperating Agents']:.4f} ({final_stds['Proportion of Cooperating Agents']:.4f})\"\n",
    "    ]\n",
    "}\n",
    "\n",
    "results_df = pd.DataFrame(formatted_results)\n",
    "display(results_df)\n"
   ]
  },
  {
   "cell_type": "code",
   "execution_count": 160,
   "metadata": {},
   "outputs": [
    {
     "data": {
      "text/html": [
       "<div>\n",
       "<style scoped>\n",
       "    .dataframe tbody tr th:only-of-type {\n",
       "        vertical-align: middle;\n",
       "    }\n",
       "\n",
       "    .dataframe tbody tr th {\n",
       "        vertical-align: top;\n",
       "    }\n",
       "\n",
       "    .dataframe thead th {\n",
       "        text-align: right;\n",
       "    }\n",
       "</style>\n",
       "<table border=\"1\" class=\"dataframe\">\n",
       "  <thead>\n",
       "    <tr style=\"text-align: right;\">\n",
       "      <th></th>\n",
       "      <th>Avg Score (Frequency Dependent Learning)</th>\n",
       "      <th>Avg Score (Success Base Learning)</th>\n",
       "      <th>Avg Score (Random Copying)</th>\n",
       "      <th>Proportion of Cooperators</th>\n",
       "    </tr>\n",
       "  </thead>\n",
       "  <tbody>\n",
       "    <tr>\n",
       "      <th>Overall Average (Std)</th>\n",
       "      <td>226.80 (265.45)</td>\n",
       "      <td>247.18 (277.79)</td>\n",
       "      <td>235.07 (269.67)</td>\n",
       "      <td>0.71 (0.43)</td>\n",
       "    </tr>\n",
       "    <tr>\n",
       "      <th>Primary Ratio 0.3333333333333333</th>\n",
       "      <td>191.45</td>\n",
       "      <td>208.3</td>\n",
       "      <td>199.83</td>\n",
       "      <td>0.73</td>\n",
       "    </tr>\n",
       "    <tr>\n",
       "      <th>Primary Ratio 0.53</th>\n",
       "      <td>243.62</td>\n",
       "      <td>161.38</td>\n",
       "      <td>286.76</td>\n",
       "      <td>0.73</td>\n",
       "    </tr>\n",
       "    <tr>\n",
       "      <th>Primary Ratio 0.73</th>\n",
       "      <td>199.87</td>\n",
       "      <td>151.04</td>\n",
       "      <td>452.34</td>\n",
       "      <td>0.67</td>\n",
       "    </tr>\n",
       "    <tr>\n",
       "      <th>Initial Cooperate Probability 0.25</th>\n",
       "      <td>221.08</td>\n",
       "      <td>189.71</td>\n",
       "      <td>358.53</td>\n",
       "      <td>0.63</td>\n",
       "    </tr>\n",
       "    <tr>\n",
       "      <th>Initial Cooperate Probability 0.5</th>\n",
       "      <td>273.91</td>\n",
       "      <td>174.51</td>\n",
       "      <td>317.11</td>\n",
       "      <td>0.74</td>\n",
       "    </tr>\n",
       "    <tr>\n",
       "      <th>Initial Cooperate Probability 0.75</th>\n",
       "      <td>139.96</td>\n",
       "      <td>156.51</td>\n",
       "      <td>263.29</td>\n",
       "      <td>0.76</td>\n",
       "    </tr>\n",
       "    <tr>\n",
       "      <th>Game Type: No Incentive</th>\n",
       "      <td>0.0</td>\n",
       "      <td>0.0</td>\n",
       "      <td>0.0</td>\n",
       "      <td>0.5</td>\n",
       "    </tr>\n",
       "    <tr>\n",
       "      <th>Game Type: Traditional Prisoner's Dilemma</th>\n",
       "      <td>278.24</td>\n",
       "      <td>364.38</td>\n",
       "      <td>350.2</td>\n",
       "      <td>0.47</td>\n",
       "    </tr>\n",
       "    <tr>\n",
       "      <th>Game Type: Advanced Prisoner's Dilemma</th>\n",
       "      <td>189.7</td>\n",
       "      <td>144.88</td>\n",
       "      <td>290.01</td>\n",
       "      <td>0.71</td>\n",
       "    </tr>\n",
       "    <tr>\n",
       "      <th>Game Type: Stag Hunt</th>\n",
       "      <td>278.13</td>\n",
       "      <td>146.49</td>\n",
       "      <td>424.15</td>\n",
       "      <td>0.96</td>\n",
       "    </tr>\n",
       "  </tbody>\n",
       "</table>\n",
       "</div>"
      ],
      "text/plain": [
       "                                          Avg Score (Frequency Dependent Learning)  \\\n",
       "Overall Average (Std)                                              226.80 (265.45)   \n",
       "Primary Ratio 0.3333333333333333                                            191.45   \n",
       "Primary Ratio 0.53                                                          243.62   \n",
       "Primary Ratio 0.73                                                          199.87   \n",
       "Initial Cooperate Probability 0.25                                          221.08   \n",
       "Initial Cooperate Probability 0.5                                           273.91   \n",
       "Initial Cooperate Probability 0.75                                          139.96   \n",
       "Game Type: No Incentive                                                        0.0   \n",
       "Game Type: Traditional Prisoner's Dilemma                                   278.24   \n",
       "Game Type: Advanced Prisoner's Dilemma                                       189.7   \n",
       "Game Type: Stag Hunt                                                        278.13   \n",
       "\n",
       "                                          Avg Score (Success Base Learning)  \\\n",
       "Overall Average (Std)                                       247.18 (277.79)   \n",
       "Primary Ratio 0.3333333333333333                                      208.3   \n",
       "Primary Ratio 0.53                                                   161.38   \n",
       "Primary Ratio 0.73                                                   151.04   \n",
       "Initial Cooperate Probability 0.25                                   189.71   \n",
       "Initial Cooperate Probability 0.5                                    174.51   \n",
       "Initial Cooperate Probability 0.75                                   156.51   \n",
       "Game Type: No Incentive                                                 0.0   \n",
       "Game Type: Traditional Prisoner's Dilemma                            364.38   \n",
       "Game Type: Advanced Prisoner's Dilemma                               144.88   \n",
       "Game Type: Stag Hunt                                                 146.49   \n",
       "\n",
       "                                          Avg Score (Random Copying)  \\\n",
       "Overall Average (Std)                                235.07 (269.67)   \n",
       "Primary Ratio 0.3333333333333333                              199.83   \n",
       "Primary Ratio 0.53                                            286.76   \n",
       "Primary Ratio 0.73                                            452.34   \n",
       "Initial Cooperate Probability 0.25                            358.53   \n",
       "Initial Cooperate Probability 0.5                             317.11   \n",
       "Initial Cooperate Probability 0.75                            263.29   \n",
       "Game Type: No Incentive                                          0.0   \n",
       "Game Type: Traditional Prisoner's Dilemma                      350.2   \n",
       "Game Type: Advanced Prisoner's Dilemma                        290.01   \n",
       "Game Type: Stag Hunt                                          424.15   \n",
       "\n",
       "                                          Proportion of Cooperators  \n",
       "Overall Average (Std)                                   0.71 (0.43)  \n",
       "Primary Ratio 0.3333333333333333                               0.73  \n",
       "Primary Ratio 0.53                                             0.73  \n",
       "Primary Ratio 0.73                                             0.67  \n",
       "Initial Cooperate Probability 0.25                             0.63  \n",
       "Initial Cooperate Probability 0.5                              0.74  \n",
       "Initial Cooperate Probability 0.75                             0.76  \n",
       "Game Type: No Incentive                                         0.5  \n",
       "Game Type: Traditional Prisoner's Dilemma                      0.47  \n",
       "Game Type: Advanced Prisoner's Dilemma                         0.71  \n",
       "Game Type: Stag Hunt                                           0.96  "
      ]
     },
     "metadata": {},
     "output_type": "display_data"
    }
   ],
   "source": [
    "# displaying the summary table with all categories\n",
    "\n",
    "formatted_results = {\n",
    "    'Average Score (Frequency Dependent)': f\"{final_means['Average Score(Frequency Dependent)']:.2f} ({final_stds['Average Score(Frequency Dependent)']:.2f})\",\n",
    "    'Average Score (Success Base)': f\"{final_means['Average Score(Success Base)']:.2f} ({final_stds['Average Score(Success Base)']:.2f})\",\n",
    "    'Average Score (Random Copying)': f\"{final_means['Average Score(Random Copying)']:.2f} ({final_stds['Average Score(Random Copying)']:.2f})\",\n",
    "    'Proportion of Cooperating Agents': f\"{final_means['Proportion of Cooperating Agents']:.2f} ({final_stds['Proportion of Cooperating Agents']:.2f})\"\n",
    "}\n",
    "\n",
    "\n",
    "strategies = ['Frequency Dependent Learning', 'Success Base Learning', 'Random Copying']\n",
    "primary_ratios = [1/3, 0.53, 0.73]\n",
    "initial_cooperate_probs = [0.25, 0.5, 0.75]\n",
    "game_types = ['No Incentive', 'Traditional Prisoner\\'s Dilemma', 'Advanced Prisoner\\'s Dilemma', 'Stag Hunt']\n",
    "\n",
    "\n",
    "data = {}\n",
    "cooperators_data = {}\n",
    "\n",
    "# helper functions to calculate the mean score for each strategy and the proportion of cooperators\n",
    "def calculate_mean_and_coop(strategy, condition_filter):\n",
    "    column_name = {\n",
    "        'Frequency Dependent Learning': 'Average Score(Frequency Dependent)',\n",
    "        'Success Base Learning': 'Average Score(Success Base)',\n",
    "        'Random Copying': 'Average Score(Random Copying)'\n",
    "    }[strategy]\n",
    "    \n",
    "    filtered_data = grouped[(grouped['primary_strategy'] == strategy) & condition_filter]\n",
    "    mean_score = round(filtered_data[column_name].mean(), 2)\n",
    "    return mean_score\n",
    "\n",
    "def calculate_cooperators(condition_filter):\n",
    "    total_cooperators = grouped[condition_filter]['Cooperating Agents'].sum()\n",
    "    total_agents = total_cooperators + grouped[condition_filter]['Defecting Agents'].sum()\n",
    "    return round(total_cooperators / total_agents, 2) if total_agents > 0 else 0\n",
    "\n",
    "\n",
    "for ratio in primary_ratios:\n",
    "    data[f\"Primary Ratio {ratio}\"] = [calculate_mean_and_coop(strategy, grouped['primary_ratio'] == ratio) for strategy in strategies]\n",
    "    cooperators_data[f\"Primary Ratio {ratio}\"] = calculate_cooperators(grouped['primary_ratio'] == ratio)\n",
    "\n",
    "for prob in initial_cooperate_probs:\n",
    "    data[f\"Initial Cooperate Probability {prob}\"] = [calculate_mean_and_coop(strategy, grouped['initial_cooperate_prob'] == prob) for strategy in strategies]\n",
    "    cooperators_data[f\"Initial Cooperate Probability {prob}\"] = calculate_cooperators(grouped['initial_cooperate_prob'] == prob)\n",
    "\n",
    "game_types = ['No Incentive', 'Traditional Prisoner\\'s Dilemma', 'Advanced Prisoner\\'s Dilemma', 'Stag Hunt']\n",
    "for game_type in game_types:\n",
    "    data[f\"Game Type: {game_type}\"] = [calculate_mean_and_coop(strategy, grouped['Game_Type'] == game_type) for strategy in strategies]\n",
    "    cooperators_data[f\"Game Type: {game_type}\"] = calculate_cooperators(grouped['Game_Type'] == game_type)\n",
    "\n",
    "\n",
    "data['Overall Average (Std)'] = [formatted_results['Average Score (Frequency Dependent)'],\n",
    "                                formatted_results['Average Score (Success Base)'],\n",
    "                                formatted_results['Average Score (Random Copying)']]\n",
    "cooperators_data['Overall Average (Std)'] = formatted_results['Proportion of Cooperating Agents']\n",
    "\n",
    "\n",
    "results_df = pd.DataFrame(data, index=[f'Avg Score ({strategy})' for strategy in strategies]).transpose()\n",
    "results_df['Proportion of Cooperators'] = pd.Series(cooperators_data)\n",
    "results_df = pd.concat([results_df.loc[['Overall Average (Std)']], results_df.drop('Overall Average (Std)')])\n",
    "\n",
    "\n",
    "display(results_df)"
   ]
  },
  {
   "cell_type": "code",
   "execution_count": 103,
   "metadata": {},
   "outputs": [
    {
     "name": "stdout",
     "output_type": "stream",
     "text": [
      "(345944, 21)\n"
     ]
    }
   ],
   "source": [
    "# handling missing data for simulation steps when the simulations finish before the step of 50\n",
    "\n",
    "df_2 = df\n",
    "df_2['Proportion of Cooperators'] = (df_2['Cooperating Agents'] / total_agents) * 100\n",
    "\n",
    "\n",
    "def fill_missing_steps(group):\n",
    "    max_step = 50\n",
    "    last_observed = group['Step'].max()\n",
    "    if last_observed < max_step:\n",
    "        fill_steps = pd.DataFrame({\n",
    "            'Step': range(last_observed + 1, max_step + 1),\n",
    "            'Proportion of Cooperators': group['Proportion of Cooperators'].iloc[-1]\n",
    "        })\n",
    "        for col in group.columns:\n",
    "            if col not in ['Step', 'Proportion of Cooperators']:\n",
    "                fill_steps[col] = group[col].iloc[0] if group[col].dtype != 'object' else group[col].mode()[0]\n",
    "        return pd.concat([group, fill_steps], ignore_index=True)\n",
    "    return group\n",
    "\n",
    "\n",
    "filled_line_df = df_2.groupby(['initial_cooperate_prob', 'payoff_CC', 'payoff_CD', 'payoff_DC', \n",
    "                               'payoff_DD', 'primary_strategy', 'primary_ratio']).apply(fill_missing_steps).reset_index(drop=True)\n",
    "\n",
    "\n",
    "print(filled_line_df.shape)"
   ]
  },
  {
   "cell_type": "code",
   "execution_count": 163,
   "metadata": {},
   "outputs": [
    {
     "name": "stderr",
     "output_type": "stream",
     "text": [
      "/var/folders/yy/wn0z53b977q818d7g3560t400000gn/T/ipykernel_6910/355890002.py:21: FutureWarning:\n",
      "\n",
      "\n",
      "\n",
      "The `ci` parameter is deprecated. Use `errorbar=None` for the same effect.\n",
      "\n",
      "\n",
      "/var/folders/yy/wn0z53b977q818d7g3560t400000gn/T/ipykernel_6910/355890002.py:21: FutureWarning:\n",
      "\n",
      "\n",
      "\n",
      "The `ci` parameter is deprecated. Use `errorbar=None` for the same effect.\n",
      "\n",
      "\n",
      "/var/folders/yy/wn0z53b977q818d7g3560t400000gn/T/ipykernel_6910/355890002.py:21: FutureWarning:\n",
      "\n",
      "\n",
      "\n",
      "The `ci` parameter is deprecated. Use `errorbar=None` for the same effect.\n",
      "\n",
      "\n",
      "/var/folders/yy/wn0z53b977q818d7g3560t400000gn/T/ipykernel_6910/355890002.py:21: FutureWarning:\n",
      "\n",
      "\n",
      "\n",
      "The `ci` parameter is deprecated. Use `errorbar=None` for the same effect.\n",
      "\n",
      "\n",
      "/var/folders/yy/wn0z53b977q818d7g3560t400000gn/T/ipykernel_6910/355890002.py:21: FutureWarning:\n",
      "\n",
      "\n",
      "\n",
      "The `ci` parameter is deprecated. Use `errorbar=None` for the same effect.\n",
      "\n",
      "\n",
      "/var/folders/yy/wn0z53b977q818d7g3560t400000gn/T/ipykernel_6910/355890002.py:21: FutureWarning:\n",
      "\n",
      "\n",
      "\n",
      "The `ci` parameter is deprecated. Use `errorbar=None` for the same effect.\n",
      "\n",
      "\n",
      "/var/folders/yy/wn0z53b977q818d7g3560t400000gn/T/ipykernel_6910/355890002.py:21: FutureWarning:\n",
      "\n",
      "\n",
      "\n",
      "The `ci` parameter is deprecated. Use `errorbar=None` for the same effect.\n",
      "\n",
      "\n",
      "/var/folders/yy/wn0z53b977q818d7g3560t400000gn/T/ipykernel_6910/355890002.py:21: FutureWarning:\n",
      "\n",
      "\n",
      "\n",
      "The `ci` parameter is deprecated. Use `errorbar=None` for the same effect.\n",
      "\n",
      "\n",
      "/var/folders/yy/wn0z53b977q818d7g3560t400000gn/T/ipykernel_6910/355890002.py:21: FutureWarning:\n",
      "\n",
      "\n",
      "\n",
      "The `ci` parameter is deprecated. Use `errorbar=None` for the same effect.\n",
      "\n",
      "\n"
     ]
    },
    {
     "data": {
      "image/png": "[encoded data removed]",
      "text/plain": [
       "<Figure size 1800x600 with 3 Axes>"
      ]
     },
     "metadata": {},
     "output_type": "display_data"
    }
   ],
   "source": [
    "# creating the lineplot for the proportion of the cooperators with all possible combinations\n",
    "df_line = filled_line_df \n",
    "\n",
    "fig, axes = plt.subplots(1, 3, figsize=(18, 6), sharey=True)\n",
    "\n",
    "strategies = ['Frequency Dependent Learning', 'Success Base Learning', 'Random Copying']\n",
    "subplot_labels = ['a) Frequency Dependent Learning', 'b) Success Base Learning', 'c) Random Copying']\n",
    "colors = ['lightskyblue', 'royalblue', 'midnightblue']\n",
    "\n",
    "legend_handles = []\n",
    "\n",
    "# loop through each strategy\n",
    "for i, strategy in enumerate(strategies):\n",
    "    for ratio, color in zip([1/3, 0.53, 0.73], colors):\n",
    "        ratio_data = df_line[\n",
    "            (df_line['primary_strategy'] == strategy) &\n",
    "            (df_line['primary_ratio'] == ratio)\n",
    "        ].groupby('Step').agg({'Cooperating Agents': 'sum', 'primary_ratio': 'count'}).reset_index()\n",
    "        ratio_data['Proportion of Cooperators'] = (ratio_data['Cooperating Agents'] / (total_agents * ratio_data['primary_ratio'])) * 100\n",
    "\n",
    "        # plot the individual lines for each ratio, disable the legend for individual plots\n",
    "        sns.lineplot(ax=axes[i], data=ratio_data, x='Step', y='Proportion of Cooperators', color=color, label=f'{int(ratio*100)}%', ci=None, legend=None)\n",
    "\n",
    "    # calculate the overall average across all ratios for each strategy\n",
    "    overall_avg_data = df_line[df_line['primary_strategy'] == strategy].groupby('Step')['Cooperating Agents'].mean().reset_index()\n",
    "    overall_avg_data['Proportion of Cooperators'] = (overall_avg_data['Cooperating Agents'] / total_agents) * 100\n",
    "\n",
    "    # plot the overall average line, disable the legend for individual plots\n",
    "    sns.lineplot(ax=axes[i], data=overall_avg_data, x='Step', y='Proportion of Cooperators', color='black', linewidth=7, linestyle='--', alpha=0.1, label='Average', legend=None)\n",
    "\n",
    "    # set the subplot title\n",
    "    axes[i].set_title(subplot_labels[i], loc='left')\n",
    "\n",
    "    # set the background color for the subplot area\n",
    "    axes[i].set_facecolor('floralwhite')\n",
    "\n",
    "\n",
    "axes[0].set_ylabel('Proportion of Cooperators (%)')\n",
    "for ax in axes:\n",
    "    ax.set_xlabel('Step')\n",
    "    ax.set_xlim(left=0)\n",
    "    ax.set_ylim([0, 100])\n",
    "    ax.grid(True)\n",
    "\n",
    "# create a single legend for all subplots, placed outside on the right\n",
    "for color, label in zip(colors, ['33%', '53%', '73%']):\n",
    "    legend_handles.append(plt.Line2D([0], [0], color=color, label=label))\n",
    "legend_handles.append(mlines.Line2D([], [], color='black', linestyle='--', linewidth=7, alpha=0.1, label='Average'))\n",
    "fig.legend(handles=legend_handles, title='Distribution', loc='center left', bbox_to_anchor=(1.05, 0.5))\n",
    "\n",
    "plt.tight_layout()\n",
    "plt.show()\n"
   ]
  },
  {
   "cell_type": "code",
   "execution_count": 169,
   "metadata": {},
   "outputs": [
    {
     "name": "stderr",
     "output_type": "stream",
     "text": [
      "/var/folders/yy/wn0z53b977q818d7g3560t400000gn/T/ipykernel_6910/2176557629.py:31: SettingWithCopyWarning:\n",
      "\n",
      "\n",
      "A value is trying to be set on a copy of a slice from a DataFrame.\n",
      "Try using .loc[row_indexer,col_indexer] = value instead\n",
      "\n",
      "See the caveats in the documentation: https://pandas.pydata.org/pandas-docs/stable/user_guide/indexing.html#returning-a-view-versus-a-copy\n",
      "\n",
      "/var/folders/yy/wn0z53b977q818d7g3560t400000gn/T/ipykernel_6910/2176557629.py:34: SettingWithCopyWarning:\n",
      "\n",
      "\n",
      "A value is trying to be set on a copy of a slice from a DataFrame.\n",
      "Try using .loc[row_indexer,col_indexer] = value instead\n",
      "\n",
      "See the caveats in the documentation: https://pandas.pydata.org/pandas-docs/stable/user_guide/indexing.html#returning-a-view-versus-a-copy\n",
      "\n",
      "/var/folders/yy/wn0z53b977q818d7g3560t400000gn/T/ipykernel_6910/2176557629.py:36: FutureWarning:\n",
      "\n",
      "\n",
      "\n",
      "The `ci` parameter is deprecated. Use `errorbar=None` for the same effect.\n",
      "\n",
      "\n",
      "/var/folders/yy/wn0z53b977q818d7g3560t400000gn/T/ipykernel_6910/2176557629.py:38: FutureWarning:\n",
      "\n",
      "\n",
      "\n",
      "The `ci` parameter is deprecated. Use `errorbar=None` for the same effect.\n",
      "\n",
      "\n",
      "/var/folders/yy/wn0z53b977q818d7g3560t400000gn/T/ipykernel_6910/2176557629.py:31: SettingWithCopyWarning:\n",
      "\n",
      "\n",
      "A value is trying to be set on a copy of a slice from a DataFrame.\n",
      "Try using .loc[row_indexer,col_indexer] = value instead\n",
      "\n",
      "See the caveats in the documentation: https://pandas.pydata.org/pandas-docs/stable/user_guide/indexing.html#returning-a-view-versus-a-copy\n",
      "\n",
      "/var/folders/yy/wn0z53b977q818d7g3560t400000gn/T/ipykernel_6910/2176557629.py:34: SettingWithCopyWarning:\n",
      "\n",
      "\n",
      "A value is trying to be set on a copy of a slice from a DataFrame.\n",
      "Try using .loc[row_indexer,col_indexer] = value instead\n",
      "\n",
      "See the caveats in the documentation: https://pandas.pydata.org/pandas-docs/stable/user_guide/indexing.html#returning-a-view-versus-a-copy\n",
      "\n",
      "/var/folders/yy/wn0z53b977q818d7g3560t400000gn/T/ipykernel_6910/2176557629.py:36: FutureWarning:\n",
      "\n",
      "\n",
      "\n",
      "The `ci` parameter is deprecated. Use `errorbar=None` for the same effect.\n",
      "\n",
      "\n",
      "/var/folders/yy/wn0z53b977q818d7g3560t400000gn/T/ipykernel_6910/2176557629.py:38: FutureWarning:\n",
      "\n",
      "\n",
      "\n",
      "The `ci` parameter is deprecated. Use `errorbar=None` for the same effect.\n",
      "\n",
      "\n",
      "/var/folders/yy/wn0z53b977q818d7g3560t400000gn/T/ipykernel_6910/2176557629.py:31: SettingWithCopyWarning:\n",
      "\n",
      "\n",
      "A value is trying to be set on a copy of a slice from a DataFrame.\n",
      "Try using .loc[row_indexer,col_indexer] = value instead\n",
      "\n",
      "See the caveats in the documentation: https://pandas.pydata.org/pandas-docs/stable/user_guide/indexing.html#returning-a-view-versus-a-copy\n",
      "\n",
      "/var/folders/yy/wn0z53b977q818d7g3560t400000gn/T/ipykernel_6910/2176557629.py:34: SettingWithCopyWarning:\n",
      "\n",
      "\n",
      "A value is trying to be set on a copy of a slice from a DataFrame.\n",
      "Try using .loc[row_indexer,col_indexer] = value instead\n",
      "\n",
      "See the caveats in the documentation: https://pandas.pydata.org/pandas-docs/stable/user_guide/indexing.html#returning-a-view-versus-a-copy\n",
      "\n",
      "/var/folders/yy/wn0z53b977q818d7g3560t400000gn/T/ipykernel_6910/2176557629.py:36: FutureWarning:\n",
      "\n",
      "\n",
      "\n",
      "The `ci` parameter is deprecated. Use `errorbar=None` for the same effect.\n",
      "\n",
      "\n",
      "/var/folders/yy/wn0z53b977q818d7g3560t400000gn/T/ipykernel_6910/2176557629.py:38: FutureWarning:\n",
      "\n",
      "\n",
      "\n",
      "The `ci` parameter is deprecated. Use `errorbar=None` for the same effect.\n",
      "\n",
      "\n"
     ]
    },
    {
     "data": {
      "image/png": "[encoded data removed]",
      "text/plain": [
       "<Figure size 1800x600 with 3 Axes>"
      ]
     },
     "metadata": {},
     "output_type": "display_data"
    }
   ],
   "source": [
    "# creating the lineplot for the proportion of the cooperators with a narrower condition\n",
    "\n",
    "\n",
    "fig, axes = plt.subplots(1, 3, figsize=(18, 6), sharey=True)\n",
    "\n",
    "\n",
    "strategies = ['Frequency Dependent Learning', 'Success Base Learning', 'Random Copying']\n",
    "subplot_labels = ['a) Frequency Dependent Learning', 'b) Success Base Learning', 'c) Random Copying']\n",
    "colors = ['lightskyblue', 'royalblue', 'midnightblue']  \n",
    "total_agents = 2500 \n",
    "\n",
    "\n",
    "legend_handles = []\n",
    "legend_labels = ['33%', '53%', '73%', 'Average']\n",
    "\n",
    "# loop through each strategy\n",
    "for i, strategy in enumerate(strategies):\n",
    "    # filter data for the current strategy\n",
    "    strategy_data = df_line[\n",
    "        (df_line['payoff_CC'] == 1) &\n",
    "        (df_line['payoff_CD'] == 0) &\n",
    "        (df_line['payoff_DC'] == 2) &\n",
    "        (df_line['payoff_DD'] == 0) &\n",
    "        (df_line['initial_cooperate_prob'] == 0.5) &\n",
    "        (df_line['primary_strategy'] == strategy)\n",
    "    ]\n",
    "\n",
    "    # map ratios to labels\n",
    "    ratios = [1/3, 0.53, 0.73]\n",
    "    ratio_labels = {1/3: '33%', 0.53: '53%', 0.73: '73%'}\n",
    "    strategy_data['ratio_label'] = strategy_data['primary_ratio'].map(ratio_labels)\n",
    "\n",
    "    # calculate the proportion of cooperators\n",
    "    strategy_data['Proportion of Cooperators'] = (strategy_data['Cooperating Agents'] / total_agents) * 100\n",
    "\n",
    "    sns.lineplot(ax=axes[i], data=strategy_data, x='Step', y='Proportion of Cooperators', hue='ratio_label', palette=colors, ci=None, legend=False)\n",
    "    average_data = strategy_data.groupby('Step')['Proportion of Cooperators']. mean().reset_index()\n",
    "    sns.lineplot(ax=axes[i], data=average_data, x='Step', y='Proportion of Cooperators', color='black', linewidth=7, ci=None, legend=False)\n",
    "\n",
    "    avg_line = axes[i].lines[-1]  \n",
    "    avg_line.set_linestyle('--') \n",
    "    avg_line.set_alpha(0.1) \n",
    "\n",
    "    axes[i].set_title(subplot_labels[i], loc='left')\n",
    "    axes[i].set_facecolor('floralwhite')  \n",
    "\n",
    "\n",
    "for color, label in zip(colors, ['33%', '53%', '73%']):\n",
    "    legend_handles.append(plt.Line2D([0], [0], color=color, label=label))\n",
    "\n",
    "legend_handles.append(mlines.Line2D([], [], color='black', linestyle='--', linewidth=7, alpha=0.1, label='Average'))\n",
    "\n",
    "\n",
    "axes[0].set_ylabel('Proportion of Cooperators (%)')\n",
    "for ax in axes:\n",
    "    ax.set_xlabel('Step')\n",
    "    ax.set_xlim(left=0)\n",
    "    ax.set_ylim([0, 100])\n",
    "    ax.grid(True)\n",
    "\n",
    "fig.legend(handles=legend_handles, title='Distribution', loc='upper left', bbox_to_anchor=(1, 0.95))\n",
    "\n",
    "plt.tight_layout()\n",
    "plt.show()\n"
   ]
  },
  {
   "cell_type": "code",
   "execution_count": 170,
   "metadata": {},
   "outputs": [
    {
     "data": {
      "image/png": "[encoded data removed]",
      "text/plain": [
       "<Figure size 1000x800 with 1 Axes>"
      ]
     },
     "metadata": {},
     "output_type": "display_data"
    }
   ],
   "source": [
    "# creating a boxplot to visualize the average scores\n",
    "\n",
    "# reshape the data\n",
    "melted_data = pd.melt(mean_scores.reset_index(), id_vars=['initial_cooperate_prob', 'payoff_CC', 'payoff_CD', 'payoff_DC', 'payoff_DD', 'primary_ratio', 'primary_strategy'],\n",
    "                      value_vars=['Average Score(Frequency Dependent)', 'Average Score(Success Base)', 'Average Score(Random Copying)'],\n",
    "                      var_name='Strategy', value_name='Average Score')\n",
    "\n",
    "\n",
    "melted_data['Strategy'] = melted_data['Strategy'].replace({\n",
    "    'Average Score(Frequency Dependent)': 'Frequency Dependent',\n",
    "    'Average Score(Success Base)': 'Success Base',\n",
    "    'Average Score(Random Copying)': 'Random Copying'\n",
    "})\n",
    "\n",
    "# a color palette for each strategy\n",
    "color_palette = {\n",
    "    'Frequency Dependent': 'dodgerblue',\n",
    "    'Success Base': 'mediumseagreen',\n",
    "    'Random Copying': 'red'\n",
    "}\n",
    "\n",
    "\n",
    "plt.figure(figsize=(10, 8))\n",
    "ax = sns.boxplot(data=melted_data, x='Strategy', y='Average Score', palette=color_palette, boxprops=dict(alpha=.3))\n",
    "sns.stripplot(data=melted_data, x='Strategy', y='Average Score', color='black', size= 6, jitter=True, alpha=0.1)\n",
    "\n",
    "\n",
    "means = melted_data.groupby('Strategy')['Average Score'].mean()\n",
    "for i, strategy in enumerate(means.index):\n",
    "    plt.axhline(y=means[strategy], color='dimgrey', linestyle='--', xmin=0.035 + i/3, xmax=0.3 + i/3, linewidth=2)\n",
    "\n",
    "plt.title('Average Scores by Learning Strategy with Mean Lines and Jitter')\n",
    "plt.xlabel('Learning Strategy')\n",
    "plt.ylabel('Average Score')\n",
    "\n",
    "\n",
    "ax.set_facecolor('floralwhite')\n",
    "plt.gca().set_facecolor('floralwhite')\n",
    "\n",
    "plt.show()"
   ]
  },
  {
   "cell_type": "code",
   "execution_count": 171,
   "metadata": {},
   "outputs": [
    {
     "data": {
      "image/png": "[encoded data removed]",
      "text/plain": [
       "<Figure size 1000x800 with 1 Axes>"
      ]
     },
     "metadata": {},
     "output_type": "display_data"
    }
   ],
   "source": [
    "# remove the outliers for the plot\n",
    "\n",
    "Q1 = melted_data.groupby('Strategy')['Average Score'].quantile(0.25)\n",
    "Q3 = melted_data.groupby('Strategy')['Average Score'].quantile(0.75)\n",
    "IQR = Q3 - Q1\n",
    "\n",
    "\n",
    "lower_bound = Q1 - 1.5 * IQR\n",
    "upper_bound = Q3 + 1.5 * IQR\n",
    "\n",
    "\n",
    "melted_data['lower_bound'] = melted_data['Strategy'].map(lower_bound)\n",
    "melted_data['upper_bound'] = melted_data['Strategy'].map(upper_bound)\n",
    "\n",
    "\n",
    "plt.figure(figsize=(10, 8))\n",
    "ax = sns.boxplot(data=melted_data, x='Strategy', y='Average Score', palette=color_palette, boxprops=dict(alpha=.3), showfliers=False)\n",
    "\n",
    "\n",
    "means = melted_data.groupby('Strategy')['Average Score'].mean()\n",
    "for i, strategy in enumerate(means.index):\n",
    "    plt.axhline(y=means[strategy], color='dimgrey', linestyle='--', xmin=0.035 + i/3, xmax=0.3 + i/3, linewidth=2)\n",
    "\n",
    "mean_line = mlines.Line2D([], [], color='dimgrey', linestyle='--', linewidth=2, label='Mean Score Line')\n",
    "median_line = mlines.Line2D([], [], color='white', marker='_', linestyle='', markersize=10, label='Median', markeredgecolor='black')\n",
    "\n",
    "\n",
    "plt.legend(handles=[median_line, mean_line], loc='upper right',bbox_to_anchor=(1.25, 1))\n",
    "\n",
    "plt.title('Average Scores by Learning Strategy (without outliers)')\n",
    "plt.xlabel('')\n",
    "plt.ylabel('Average Score')\n",
    "\n",
    "ax.set_facecolor('floralwhite')\n",
    "plt.gca().set_facecolor('floralwhite')\n",
    "\n",
    "plt.show()"
   ]
  },
  {
   "cell_type": "code",
   "execution_count": 172,
   "metadata": {},
   "outputs": [
    {
     "name": "stderr",
     "output_type": "stream",
     "text": [
      "/var/folders/yy/wn0z53b977q818d7g3560t400000gn/T/ipykernel_6910/3425942645.py:9: FutureWarning:\n",
      "\n",
      "The default value of numeric_only in DataFrameGroupBy.mean is deprecated. In a future version, numeric_only will default to False. Either specify numeric_only or select only columns which should be valid for the function.\n",
      "\n"
     ]
    },
    {
     "data": {
      "application/vnd.plotly.v1+json": {
       "config": {
        "plotlyServerURL": "https://plot.ly"
       },
       "data": [
        {
         "hovertemplate": "primary_strategy=Frequency Dependent Learning<br>Initial Cooperation Probability=%{x}<br>Primary Ratio=%{y}<br>Average Score (Frequency Dependent)=%{z}<extra></extra>",
         "legendgroup": "Frequency Dependent Learning",
         "marker": {
          "color": "#636efa",
          "opacity": 0.7,
          "symbol": "circle"
         },
         "mode": "markers",
         "name": "Frequency Dependent Learning",
         "scene": "scene",
         "showlegend": true,
         "type": "scatter3d",
         "x": [
          0.25,
          0.25,
          0.25,
          0.5,
          0.5,
          0.5,
          0.75,
          0.75,
          0.75
         ],
         "y": [
          0.3333333333333333,
          0.53,
          0.73,
          0.3333333333333333,
          0.53,
          0.73,
          0.3333333333333333,
          0.53,
          0.73
         ],
         "z": [
          29.903321328531415,
          8.035119496855346,
          3.2093515981735163,
          224.96974789915967,
          259.4450566037736,
          248.00513242009131,
          297.94137655062025,
          369.92812578616355,
          393.08926027397257
         ]
        },
        {
         "hovertemplate": "primary_strategy=Random Copying<br>Initial Cooperation Probability=%{x}<br>Primary Ratio=%{y}<br>Average Score (Frequency Dependent)=%{z}<extra></extra>",
         "legendgroup": "Random Copying",
         "marker": {
          "color": "#EF553B",
          "opacity": 0.7,
          "symbol": "diamond"
         },
         "mode": "markers",
         "name": "Random Copying",
         "scene": "scene",
         "showlegend": true,
         "type": "scatter3d",
         "x": [
          0.25,
          0.25,
          0.25,
          0.5,
          0.5,
          0.5,
          0.75,
          0.75,
          0.75
         ],
         "y": [
          0.3333333333333333,
          0.53,
          0.73,
          0.3333333333333333,
          0.53,
          0.73,
          0.3333333333333333,
          0.53,
          0.73
         ],
         "z": [
          18.71456582633053,
          22.01572969903464,
          25.42393669634026,
          216.27246898759503,
          146.5290176036343,
          101.97566765578634,
          298.04093637454986,
          246.22180579216356,
          184.3776458951533
         ]
        },
        {
         "hovertemplate": "primary_strategy=Success Base Learning<br>Initial Cooperation Probability=%{x}<br>Primary Ratio=%{y}<br>Average Score (Frequency Dependent)=%{z}<extra></extra>",
         "legendgroup": "Success Base Learning",
         "marker": {
          "color": "#00cc96",
          "opacity": 0.7,
          "symbol": "square"
         },
         "mode": "markers",
         "name": "Success Base Learning",
         "scene": "scene",
         "showlegend": true,
         "type": "scatter3d",
         "x": [
          0.25,
          0.25,
          0.25,
          0.5,
          0.5,
          0.5,
          0.75,
          0.75,
          0.75
         ],
         "y": [
          0.3333333333333333,
          0.53,
          0.73,
          0.3333333333333333,
          0.53,
          0.73,
          0.3333333333333333,
          0.53,
          0.73
         ],
         "z": [
          28.918087234893957,
          49.852924474730266,
          100.30356083086053,
          225.87947178871548,
          238.13356047700168,
          193.18694362017806,
          303.9921168467387,
          248.43009653605907,
          217.70178041543028
         ]
        }
       ],
       "layout": {
        "legend": {
         "title": {
          "text": "Strategy"
         },
         "tracegroupgap": 0
        },
        "scene": {
         "domain": {
          "x": [
           0,
           1
          ],
          "y": [
           0,
           1
          ]
         },
         "xaxis": {
          "title": {
           "text": "Initial Cooperation Probability"
          }
         },
         "yaxis": {
          "title": {
           "text": "Primary Ratio"
          }
         },
         "zaxis": {
          "title": {
           "text": "Average Score (Frequency Dependent)"
          }
         }
        },
        "template": {
         "data": {
          "bar": [
           {
            "error_x": {
             "color": "#2a3f5f"
            },
            "error_y": {
             "color": "#2a3f5f"
            },
            "marker": {
             "line": {
              "color": "#E5ECF6",
              "width": 0.5
             },
             "pattern": {
              "fillmode": "overlay",
              "size": 10,
              "solidity": 0.2
             }
            },
            "type": "bar"
           }
          ],
          "barpolar": [
           {
            "marker": {
             "line": {
              "color": "#E5ECF6",
              "width": 0.5
             },
             "pattern": {
              "fillmode": "overlay",
              "size": 10,
              "solidity": 0.2
             }
            },
            "type": "barpolar"
           }
          ],
          "carpet": [
           {
            "aaxis": {
             "endlinecolor": "#2a3f5f",
             "gridcolor": "white",
             "linecolor": "white",
             "minorgridcolor": "white",
             "startlinecolor": "#2a3f5f"
            },
            "baxis": {
             "endlinecolor": "#2a3f5f",
             "gridcolor": "white",
             "linecolor": "white",
             "minorgridcolor": "white",
             "startlinecolor": "#2a3f5f"
            },
            "type": "carpet"
           }
          ],
          "choropleth": [
           {
            "colorbar": {
             "outlinewidth": 0,
             "ticks": ""
            },
            "type": "choropleth"
           }
          ],
          "contour": [
           {
            "colorbar": {
             "outlinewidth": 0,
             "ticks": ""
            },
            "colorscale": [
             [
              0,
              "#0d0887"
             ],
             [
              0.1111111111111111,
              "#46039f"
             ],
             [
              0.2222222222222222,
              "#7201a8"
             ],
             [
              0.3333333333333333,
              "#9c179e"
             ],
             [
              0.4444444444444444,
              "#bd3786"
             ],
             [
              0.5555555555555556,
              "#d8576b"
             ],
             [
              0.6666666666666666,
              "#ed7953"
             ],
             [
              0.7777777777777778,
              "#fb9f3a"
             ],
             [
              0.8888888888888888,
              "#fdca26"
             ],
             [
              1,
              "#f0f921"
             ]
            ],
            "type": "contour"
           }
          ],
          "contourcarpet": [
           {
            "colorbar": {
             "outlinewidth": 0,
             "ticks": ""
            },
            "type": "contourcarpet"
           }
          ],
          "heatmap": [
           {
            "colorbar": {
             "outlinewidth": 0,
             "ticks": ""
            },
            "colorscale": [
             [
              0,
              "#0d0887"
             ],
             [
              0.1111111111111111,
              "#46039f"
             ],
             [
              0.2222222222222222,
              "#7201a8"
             ],
             [
              0.3333333333333333,
              "#9c179e"
             ],
             [
              0.4444444444444444,
              "#bd3786"
             ],
             [
              0.5555555555555556,
              "#d8576b"
             ],
             [
              0.6666666666666666,
              "#ed7953"
             ],
             [
              0.7777777777777778,
              "#fb9f3a"
             ],
             [
              0.8888888888888888,
              "#fdca26"
             ],
             [
              1,
              "#f0f921"
             ]
            ],
            "type": "heatmap"
           }
          ],
          "heatmapgl": [
           {
            "colorbar": {
             "outlinewidth": 0,
             "ticks": ""
            },
            "colorscale": [
             [
              0,
              "#0d0887"
             ],
             [
              0.1111111111111111,
              "#46039f"
             ],
             [
              0.2222222222222222,
              "#7201a8"
             ],
             [
              0.3333333333333333,
              "#9c179e"
             ],
             [
              0.4444444444444444,
              "#bd3786"
             ],
             [
              0.5555555555555556,
              "#d8576b"
             ],
             [
              0.6666666666666666,
              "#ed7953"
             ],
             [
              0.7777777777777778,
              "#fb9f3a"
             ],
             [
              0.8888888888888888,
              "#fdca26"
             ],
             [
              1,
              "#f0f921"
             ]
            ],
            "type": "heatmapgl"
           }
          ],
          "histogram": [
           {
            "marker": {
             "pattern": {
              "fillmode": "overlay",
              "size": 10,
              "solidity": 0.2
             }
            },
            "type": "histogram"
           }
          ],
          "histogram2d": [
           {
            "colorbar": {
             "outlinewidth": 0,
             "ticks": ""
            },
            "colorscale": [
             [
              0,
              "#0d0887"
             ],
             [
              0.1111111111111111,
              "#46039f"
             ],
             [
              0.2222222222222222,
              "#7201a8"
             ],
             [
              0.3333333333333333,
              "#9c179e"
             ],
             [
              0.4444444444444444,
              "#bd3786"
             ],
             [
              0.5555555555555556,
              "#d8576b"
             ],
             [
              0.6666666666666666,
              "#ed7953"
             ],
             [
              0.7777777777777778,
              "#fb9f3a"
             ],
             [
              0.8888888888888888,
              "#fdca26"
             ],
             [
              1,
              "#f0f921"
             ]
            ],
            "type": "histogram2d"
           }
          ],
          "histogram2dcontour": [
           {
            "colorbar": {
             "outlinewidth": 0,
             "ticks": ""
            },
            "colorscale": [
             [
              0,
              "#0d0887"
             ],
             [
              0.1111111111111111,
              "#46039f"
             ],
             [
              0.2222222222222222,
              "#7201a8"
             ],
             [
              0.3333333333333333,
              "#9c179e"
             ],
             [
              0.4444444444444444,
              "#bd3786"
             ],
             [
              0.5555555555555556,
              "#d8576b"
             ],
             [
              0.6666666666666666,
              "#ed7953"
             ],
             [
              0.7777777777777778,
              "#fb9f3a"
             ],
             [
              0.8888888888888888,
              "#fdca26"
             ],
             [
              1,
              "#f0f921"
             ]
            ],
            "type": "histogram2dcontour"
           }
          ],
          "mesh3d": [
           {
            "colorbar": {
             "outlinewidth": 0,
             "ticks": ""
            },
            "type": "mesh3d"
           }
          ],
          "parcoords": [
           {
            "line": {
             "colorbar": {
              "outlinewidth": 0,
              "ticks": ""
             }
            },
            "type": "parcoords"
           }
          ],
          "pie": [
           {
            "automargin": true,
            "type": "pie"
           }
          ],
          "scatter": [
           {
            "fillpattern": {
             "fillmode": "overlay",
             "size": 10,
             "solidity": 0.2
            },
            "type": "scatter"
           }
          ],
          "scatter3d": [
           {
            "line": {
             "colorbar": {
              "outlinewidth": 0,
              "ticks": ""
             }
            },
            "marker": {
             "colorbar": {
              "outlinewidth": 0,
              "ticks": ""
             }
            },
            "type": "scatter3d"
           }
          ],
          "scattercarpet": [
           {
            "marker": {
             "colorbar": {
              "outlinewidth": 0,
              "ticks": ""
             }
            },
            "type": "scattercarpet"
           }
          ],
          "scattergeo": [
           {
            "marker": {
             "colorbar": {
              "outlinewidth": 0,
              "ticks": ""
             }
            },
            "type": "scattergeo"
           }
          ],
          "scattergl": [
           {
            "marker": {
             "colorbar": {
              "outlinewidth": 0,
              "ticks": ""
             }
            },
            "type": "scattergl"
           }
          ],
          "scattermapbox": [
           {
            "marker": {
             "colorbar": {
              "outlinewidth": 0,
              "ticks": ""
             }
            },
            "type": "scattermapbox"
           }
          ],
          "scatterpolar": [
           {
            "marker": {
             "colorbar": {
              "outlinewidth": 0,
              "ticks": ""
             }
            },
            "type": "scatterpolar"
           }
          ],
          "scatterpolargl": [
           {
            "marker": {
             "colorbar": {
              "outlinewidth": 0,
              "ticks": ""
             }
            },
            "type": "scatterpolargl"
           }
          ],
          "scatterternary": [
           {
            "marker": {
             "colorbar": {
              "outlinewidth": 0,
              "ticks": ""
             }
            },
            "type": "scatterternary"
           }
          ],
          "surface": [
           {
            "colorbar": {
             "outlinewidth": 0,
             "ticks": ""
            },
            "colorscale": [
             [
              0,
              "#0d0887"
             ],
             [
              0.1111111111111111,
              "#46039f"
             ],
             [
              0.2222222222222222,
              "#7201a8"
             ],
             [
              0.3333333333333333,
              "#9c179e"
             ],
             [
              0.4444444444444444,
              "#bd3786"
             ],
             [
              0.5555555555555556,
              "#d8576b"
             ],
             [
              0.6666666666666666,
              "#ed7953"
             ],
             [
              0.7777777777777778,
              "#fb9f3a"
             ],
             [
              0.8888888888888888,
              "#fdca26"
             ],
             [
              1,
              "#f0f921"
             ]
            ],
            "type": "surface"
           }
          ],
          "table": [
           {
            "cells": {
             "fill": {
              "color": "#EBF0F8"
             },
             "line": {
              "color": "white"
             }
            },
            "header": {
             "fill": {
              "color": "#C8D4E3"
             },
             "line": {
              "color": "white"
             }
            },
            "type": "table"
           }
          ]
         },
         "layout": {
          "annotationdefaults": {
           "arrowcolor": "#2a3f5f",
           "arrowhead": 0,
           "arrowwidth": 1
          },
          "autotypenumbers": "strict",
          "coloraxis": {
           "colorbar": {
            "outlinewidth": 0,
            "ticks": ""
           }
          },
          "colorscale": {
           "diverging": [
            [
             0,
             "#8e0152"
            ],
            [
             0.1,
             "#c51b7d"
            ],
            [
             0.2,
             "#de77ae"
            ],
            [
             0.3,
             "#f1b6da"
            ],
            [
             0.4,
             "#fde0ef"
            ],
            [
             0.5,
             "#f7f7f7"
            ],
            [
             0.6,
             "#e6f5d0"
            ],
            [
             0.7,
             "#b8e186"
            ],
            [
             0.8,
             "#7fbc41"
            ],
            [
             0.9,
             "#4d9221"
            ],
            [
             1,
             "#276419"
            ]
           ],
           "sequential": [
            [
             0,
             "#0d0887"
            ],
            [
             0.1111111111111111,
             "#46039f"
            ],
            [
             0.2222222222222222,
             "#7201a8"
            ],
            [
             0.3333333333333333,
             "#9c179e"
            ],
            [
             0.4444444444444444,
             "#bd3786"
            ],
            [
             0.5555555555555556,
             "#d8576b"
            ],
            [
             0.6666666666666666,
             "#ed7953"
            ],
            [
             0.7777777777777778,
             "#fb9f3a"
            ],
            [
             0.8888888888888888,
             "#fdca26"
            ],
            [
             1,
             "#f0f921"
            ]
           ],
           "sequentialminus": [
            [
             0,
             "#0d0887"
            ],
            [
             0.1111111111111111,
             "#46039f"
            ],
            [
             0.2222222222222222,
             "#7201a8"
            ],
            [
             0.3333333333333333,
             "#9c179e"
            ],
            [
             0.4444444444444444,
             "#bd3786"
            ],
            [
             0.5555555555555556,
             "#d8576b"
            ],
            [
             0.6666666666666666,
             "#ed7953"
            ],
            [
             0.7777777777777778,
             "#fb9f3a"
            ],
            [
             0.8888888888888888,
             "#fdca26"
            ],
            [
             1,
             "#f0f921"
            ]
           ]
          },
          "colorway": [
           "#636efa",
           "#EF553B",
           "#00cc96",
           "#ab63fa",
           "#FFA15A",
           "#19d3f3",
           "#FF6692",
           "#B6E880",
           "#FF97FF",
           "#FECB52"
          ],
          "font": {
           "color": "#2a3f5f"
          },
          "geo": {
           "bgcolor": "white",
           "lakecolor": "white",
           "landcolor": "#E5ECF6",
           "showlakes": true,
           "showland": true,
           "subunitcolor": "white"
          },
          "hoverlabel": {
           "align": "left"
          },
          "hovermode": "closest",
          "mapbox": {
           "style": "light"
          },
          "paper_bgcolor": "white",
          "plot_bgcolor": "#E5ECF6",
          "polar": {
           "angularaxis": {
            "gridcolor": "white",
            "linecolor": "white",
            "ticks": ""
           },
           "bgcolor": "#E5ECF6",
           "radialaxis": {
            "gridcolor": "white",
            "linecolor": "white",
            "ticks": ""
           }
          },
          "scene": {
           "xaxis": {
            "backgroundcolor": "#E5ECF6",
            "gridcolor": "white",
            "gridwidth": 2,
            "linecolor": "white",
            "showbackground": true,
            "ticks": "",
            "zerolinecolor": "white"
           },
           "yaxis": {
            "backgroundcolor": "#E5ECF6",
            "gridcolor": "white",
            "gridwidth": 2,
            "linecolor": "white",
            "showbackground": true,
            "ticks": "",
            "zerolinecolor": "white"
           },
           "zaxis": {
            "backgroundcolor": "#E5ECF6",
            "gridcolor": "white",
            "gridwidth": 2,
            "linecolor": "white",
            "showbackground": true,
            "ticks": "",
            "zerolinecolor": "white"
           }
          },
          "shapedefaults": {
           "line": {
            "color": "#2a3f5f"
           }
          },
          "ternary": {
           "aaxis": {
            "gridcolor": "white",
            "linecolor": "white",
            "ticks": ""
           },
           "baxis": {
            "gridcolor": "white",
            "linecolor": "white",
            "ticks": ""
           },
           "bgcolor": "#E5ECF6",
           "caxis": {
            "gridcolor": "white",
            "linecolor": "white",
            "ticks": ""
           }
          },
          "title": {
           "x": 0.05
          },
          "xaxis": {
           "automargin": true,
           "gridcolor": "white",
           "linecolor": "white",
           "ticks": "",
           "title": {
            "standoff": 15
           },
           "zerolinecolor": "white",
           "zerolinewidth": 2
          },
          "yaxis": {
           "automargin": true,
           "gridcolor": "white",
           "linecolor": "white",
           "ticks": "",
           "title": {
            "standoff": 15
           },
           "zerolinecolor": "white",
           "zerolinewidth": 2
          }
         }
        },
        "title": {
         "text": "3D Plot of Learning Strategies: Frequency Dependent"
        }
       }
      }
     },
     "metadata": {},
     "output_type": "display_data"
    }
   ],
   "source": [
    "# creating a 3D plot to explore the average scores for intital cooperator probabilities and the primary strategy ratio\n",
    "\n",
    "initial_cooperate_prob_range = np.arange(0.25, 0.76, 0.25)\n",
    "primary_strategy_range = np.array([1/3, 0.53, 0.73])\n",
    "\n",
    "filtered_df_po = df[(df['payoff_CC'] == 1) & (df['payoff_CD'] == 0) & (df['payoff_DC'] == 2) & (df['payoff_DD'] == 0)]\n",
    "last_steps_po = filtered_df_po.groupby(['RunId', 'iteration']).agg({'Step': 'max'}).reset_index()\n",
    "last_steps_po = pd.merge(filtered_df_po, last_steps_po, how='inner', on=['RunId', 'iteration', 'Step'])\n",
    "grouped_po = last_steps_po.groupby(['initial_cooperate_prob', 'primary_ratio', 'primary_strategy']).mean().reset_index()\n",
    "\n",
    "\n",
    "fig = px.scatter_3d(grouped_po, x='initial_cooperate_prob', y='primary_ratio', z='Average Score(Frequency Dependent)',\n",
    "                     color='primary_strategy', symbol='primary_strategy', opacity=0.7,\n",
    "                     labels={\n",
    "                         \"initial_cooperate_prob\": \"Initial Cooperation Probability\",\n",
    "                         \"primary_ratio\": \"Primary Ratio\",\n",
    "                         \"Average Score(Frequency Dependent)\": \"Average Score (Frequency Dependent)\"\n",
    "                     },\n",
    "                     title=\"3D Plot of Learning Strategies: Frequency Dependent\")\n",
    "fig.update_layout(legend_title_text='Strategy')\n",
    "fig.show()"
   ]
  },
  {
   "cell_type": "code",
   "execution_count": 174,
   "metadata": {},
   "outputs": [
    {
     "data": {
      "application/vnd.plotly.v1+json": {
       "config": {
        "plotlyServerURL": "https://plot.ly"
       },
       "data": [
        {
         "hovertemplate": "primary_strategy=Frequency Dependent Learning<br>Initial Cooperation Probability=%{x}<br>Primary Ratio=%{y}<br>Average Score=%{marker.size}<extra></extra>",
         "legendgroup": "Frequency Dependent Learning",
         "marker": {
          "color": "#636efa",
          "size": [
           29.903321328531415,
           8.035119496855346,
           3.2093515981735163,
           224.96974789915967,
           259.4450566037736,
           248.00513242009131,
           297.94137655062025,
           369.92812578616355,
           393.08926027397257
          ],
          "sizemode": "area",
          "sizeref": 0.15723570410958904,
          "symbol": "circle"
         },
         "mode": "markers",
         "name": "Frequency Dependent Learning",
         "orientation": "v",
         "showlegend": true,
         "type": "scatter",
         "x": [
          "0.25",
          "0.25",
          "0.25",
          "0.5",
          "0.5",
          "0.5",
          "0.75",
          "0.75",
          "0.75"
         ],
         "xaxis": "x",
         "y": [
          "0.3333333333333333",
          "0.53",
          "0.73",
          "0.3333333333333333",
          "0.53",
          "0.73",
          "0.3333333333333333",
          "0.53",
          "0.73"
         ],
         "yaxis": "y"
        },
        {
         "hovertemplate": "primary_strategy=Random Copying<br>Initial Cooperation Probability=%{x}<br>Primary Ratio=%{y}<br>Average Score=%{marker.size}<extra></extra>",
         "legendgroup": "Random Copying",
         "marker": {
          "color": "#EF553B",
          "size": [
           18.71456582633053,
           22.01572969903464,
           25.42393669634026,
           216.27246898759503,
           146.5290176036343,
           101.97566765578634,
           298.04093637454986,
           246.22180579216356,
           184.3776458951533
          ],
          "sizemode": "area",
          "sizeref": 0.15723570410958904,
          "symbol": "circle"
         },
         "mode": "markers",
         "name": "Random Copying",
         "orientation": "v",
         "showlegend": true,
         "type": "scatter",
         "x": [
          "0.25",
          "0.25",
          "0.25",
          "0.5",
          "0.5",
          "0.5",
          "0.75",
          "0.75",
          "0.75"
         ],
         "xaxis": "x2",
         "y": [
          "0.3333333333333333",
          "0.53",
          "0.73",
          "0.3333333333333333",
          "0.53",
          "0.73",
          "0.3333333333333333",
          "0.53",
          "0.73"
         ],
         "yaxis": "y2"
        },
        {
         "hovertemplate": "primary_strategy=Success Base Learning<br>Initial Cooperation Probability=%{x}<br>Primary Ratio=%{y}<br>Average Score=%{marker.size}<extra></extra>",
         "legendgroup": "Success Base Learning",
         "marker": {
          "color": "#00cc96",
          "size": [
           28.918087234893957,
           49.852924474730266,
           100.30356083086053,
           225.87947178871548,
           238.13356047700168,
           193.18694362017806,
           303.9921168467387,
           248.43009653605907,
           217.70178041543028
          ],
          "sizemode": "area",
          "sizeref": 0.15723570410958904,
          "symbol": "circle"
         },
         "mode": "markers",
         "name": "Success Base Learning",
         "orientation": "v",
         "showlegend": true,
         "type": "scatter",
         "x": [
          "0.25",
          "0.25",
          "0.25",
          "0.5",
          "0.5",
          "0.5",
          "0.75",
          "0.75",
          "0.75"
         ],
         "xaxis": "x3",
         "y": [
          "0.3333333333333333",
          "0.53",
          "0.73",
          "0.3333333333333333",
          "0.53",
          "0.73",
          "0.3333333333333333",
          "0.53",
          "0.73"
         ],
         "yaxis": "y3"
        }
       ],
       "layout": {
        "annotations": [
         {
          "font": {},
          "showarrow": false,
          "text": "primary_strategy=Frequency Dependent Learning",
          "x": 0.15999999999999998,
          "xanchor": "center",
          "xref": "paper",
          "y": 1,
          "yanchor": "bottom",
          "yref": "paper"
         },
         {
          "font": {},
          "showarrow": false,
          "text": "primary_strategy=Random Copying",
          "x": 0.49999999999999994,
          "xanchor": "center",
          "xref": "paper",
          "y": 1,
          "yanchor": "bottom",
          "yref": "paper"
         },
         {
          "font": {},
          "showarrow": false,
          "text": "primary_strategy=Success Base Learning",
          "x": 0.8399999999999999,
          "xanchor": "center",
          "xref": "paper",
          "y": 1,
          "yanchor": "bottom",
          "yref": "paper"
         }
        ],
        "legend": {
         "itemsizing": "constant",
         "title": {
          "text": "Strategy"
         },
         "tracegroupgap": 0
        },
        "template": {
         "data": {
          "bar": [
           {
            "error_x": {
             "color": "#2a3f5f"
            },
            "error_y": {
             "color": "#2a3f5f"
            },
            "marker": {
             "line": {
              "color": "#E5ECF6",
              "width": 0.5
             },
             "pattern": {
              "fillmode": "overlay",
              "size": 10,
              "solidity": 0.2
             }
            },
            "type": "bar"
           }
          ],
          "barpolar": [
           {
            "marker": {
             "line": {
              "color": "#E5ECF6",
              "width": 0.5
             },
             "pattern": {
              "fillmode": "overlay",
              "size": 10,
              "solidity": 0.2
             }
            },
            "type": "barpolar"
           }
          ],
          "carpet": [
           {
            "aaxis": {
             "endlinecolor": "#2a3f5f",
             "gridcolor": "white",
             "linecolor": "white",
             "minorgridcolor": "white",
             "startlinecolor": "#2a3f5f"
            },
            "baxis": {
             "endlinecolor": "#2a3f5f",
             "gridcolor": "white",
             "linecolor": "white",
             "minorgridcolor": "white",
             "startlinecolor": "#2a3f5f"
            },
            "type": "carpet"
           }
          ],
          "choropleth": [
           {
            "colorbar": {
             "outlinewidth": 0,
             "ticks": ""
            },
            "type": "choropleth"
           }
          ],
          "contour": [
           {
            "colorbar": {
             "outlinewidth": 0,
             "ticks": ""
            },
            "colorscale": [
             [
              0,
              "#0d0887"
             ],
             [
              0.1111111111111111,
              "#46039f"
             ],
             [
              0.2222222222222222,
              "#7201a8"
             ],
             [
              0.3333333333333333,
              "#9c179e"
             ],
             [
              0.4444444444444444,
              "#bd3786"
             ],
             [
              0.5555555555555556,
              "#d8576b"
             ],
             [
              0.6666666666666666,
              "#ed7953"
             ],
             [
              0.7777777777777778,
              "#fb9f3a"
             ],
             [
              0.8888888888888888,
              "#fdca26"
             ],
             [
              1,
              "#f0f921"
             ]
            ],
            "type": "contour"
           }
          ],
          "contourcarpet": [
           {
            "colorbar": {
             "outlinewidth": 0,
             "ticks": ""
            },
            "type": "contourcarpet"
           }
          ],
          "heatmap": [
           {
            "colorbar": {
             "outlinewidth": 0,
             "ticks": ""
            },
            "colorscale": [
             [
              0,
              "#0d0887"
             ],
             [
              0.1111111111111111,
              "#46039f"
             ],
             [
              0.2222222222222222,
              "#7201a8"
             ],
             [
              0.3333333333333333,
              "#9c179e"
             ],
             [
              0.4444444444444444,
              "#bd3786"
             ],
             [
              0.5555555555555556,
              "#d8576b"
             ],
             [
              0.6666666666666666,
              "#ed7953"
             ],
             [
              0.7777777777777778,
              "#fb9f3a"
             ],
             [
              0.8888888888888888,
              "#fdca26"
             ],
             [
              1,
              "#f0f921"
             ]
            ],
            "type": "heatmap"
           }
          ],
          "heatmapgl": [
           {
            "colorbar": {
             "outlinewidth": 0,
             "ticks": ""
            },
            "colorscale": [
             [
              0,
              "#0d0887"
             ],
             [
              0.1111111111111111,
              "#46039f"
             ],
             [
              0.2222222222222222,
              "#7201a8"
             ],
             [
              0.3333333333333333,
              "#9c179e"
             ],
             [
              0.4444444444444444,
              "#bd3786"
             ],
             [
              0.5555555555555556,
              "#d8576b"
             ],
             [
              0.6666666666666666,
              "#ed7953"
             ],
             [
              0.7777777777777778,
              "#fb9f3a"
             ],
             [
              0.8888888888888888,
              "#fdca26"
             ],
             [
              1,
              "#f0f921"
             ]
            ],
            "type": "heatmapgl"
           }
          ],
          "histogram": [
           {
            "marker": {
             "pattern": {
              "fillmode": "overlay",
              "size": 10,
              "solidity": 0.2
             }
            },
            "type": "histogram"
           }
          ],
          "histogram2d": [
           {
            "colorbar": {
             "outlinewidth": 0,
             "ticks": ""
            },
            "colorscale": [
             [
              0,
              "#0d0887"
             ],
             [
              0.1111111111111111,
              "#46039f"
             ],
             [
              0.2222222222222222,
              "#7201a8"
             ],
             [
              0.3333333333333333,
              "#9c179e"
             ],
             [
              0.4444444444444444,
              "#bd3786"
             ],
             [
              0.5555555555555556,
              "#d8576b"
             ],
             [
              0.6666666666666666,
              "#ed7953"
             ],
             [
              0.7777777777777778,
              "#fb9f3a"
             ],
             [
              0.8888888888888888,
              "#fdca26"
             ],
             [
              1,
              "#f0f921"
             ]
            ],
            "type": "histogram2d"
           }
          ],
          "histogram2dcontour": [
           {
            "colorbar": {
             "outlinewidth": 0,
             "ticks": ""
            },
            "colorscale": [
             [
              0,
              "#0d0887"
             ],
             [
              0.1111111111111111,
              "#46039f"
             ],
             [
              0.2222222222222222,
              "#7201a8"
             ],
             [
              0.3333333333333333,
              "#9c179e"
             ],
             [
              0.4444444444444444,
              "#bd3786"
             ],
             [
              0.5555555555555556,
              "#d8576b"
             ],
             [
              0.6666666666666666,
              "#ed7953"
             ],
             [
              0.7777777777777778,
              "#fb9f3a"
             ],
             [
              0.8888888888888888,
              "#fdca26"
             ],
             [
              1,
              "#f0f921"
             ]
            ],
            "type": "histogram2dcontour"
           }
          ],
          "mesh3d": [
           {
            "colorbar": {
             "outlinewidth": 0,
             "ticks": ""
            },
            "type": "mesh3d"
           }
          ],
          "parcoords": [
           {
            "line": {
             "colorbar": {
              "outlinewidth": 0,
              "ticks": ""
             }
            },
            "type": "parcoords"
           }
          ],
          "pie": [
           {
            "automargin": true,
            "type": "pie"
           }
          ],
          "scatter": [
           {
            "fillpattern": {
             "fillmode": "overlay",
             "size": 10,
             "solidity": 0.2
            },
            "type": "scatter"
           }
          ],
          "scatter3d": [
           {
            "line": {
             "colorbar": {
              "outlinewidth": 0,
              "ticks": ""
             }
            },
            "marker": {
             "colorbar": {
              "outlinewidth": 0,
              "ticks": ""
             }
            },
            "type": "scatter3d"
           }
          ],
          "scattercarpet": [
           {
            "marker": {
             "colorbar": {
              "outlinewidth": 0,
              "ticks": ""
             }
            },
            "type": "scattercarpet"
           }
          ],
          "scattergeo": [
           {
            "marker": {
             "colorbar": {
              "outlinewidth": 0,
              "ticks": ""
             }
            },
            "type": "scattergeo"
           }
          ],
          "scattergl": [
           {
            "marker": {
             "colorbar": {
              "outlinewidth": 0,
              "ticks": ""
             }
            },
            "type": "scattergl"
           }
          ],
          "scattermapbox": [
           {
            "marker": {
             "colorbar": {
              "outlinewidth": 0,
              "ticks": ""
             }
            },
            "type": "scattermapbox"
           }
          ],
          "scatterpolar": [
           {
            "marker": {
             "colorbar": {
              "outlinewidth": 0,
              "ticks": ""
             }
            },
            "type": "scatterpolar"
           }
          ],
          "scatterpolargl": [
           {
            "marker": {
             "colorbar": {
              "outlinewidth": 0,
              "ticks": ""
             }
            },
            "type": "scatterpolargl"
           }
          ],
          "scatterternary": [
           {
            "marker": {
             "colorbar": {
              "outlinewidth": 0,
              "ticks": ""
             }
            },
            "type": "scatterternary"
           }
          ],
          "surface": [
           {
            "colorbar": {
             "outlinewidth": 0,
             "ticks": ""
            },
            "colorscale": [
             [
              0,
              "#0d0887"
             ],
             [
              0.1111111111111111,
              "#46039f"
             ],
             [
              0.2222222222222222,
              "#7201a8"
             ],
             [
              0.3333333333333333,
              "#9c179e"
             ],
             [
              0.4444444444444444,
              "#bd3786"
             ],
             [
              0.5555555555555556,
              "#d8576b"
             ],
             [
              0.6666666666666666,
              "#ed7953"
             ],
             [
              0.7777777777777778,
              "#fb9f3a"
             ],
             [
              0.8888888888888888,
              "#fdca26"
             ],
             [
              1,
              "#f0f921"
             ]
            ],
            "type": "surface"
           }
          ],
          "table": [
           {
            "cells": {
             "fill": {
              "color": "#EBF0F8"
             },
             "line": {
              "color": "white"
             }
            },
            "header": {
             "fill": {
              "color": "#C8D4E3"
             },
             "line": {
              "color": "white"
             }
            },
            "type": "table"
           }
          ]
         },
         "layout": {
          "annotationdefaults": {
           "arrowcolor": "#2a3f5f",
           "arrowhead": 0,
           "arrowwidth": 1
          },
          "autotypenumbers": "strict",
          "coloraxis": {
           "colorbar": {
            "outlinewidth": 0,
            "ticks": ""
           }
          },
          "colorscale": {
           "diverging": [
            [
             0,
             "#8e0152"
            ],
            [
             0.1,
             "#c51b7d"
            ],
            [
             0.2,
             "#de77ae"
            ],
            [
             0.3,
             "#f1b6da"
            ],
            [
             0.4,
             "#fde0ef"
            ],
            [
             0.5,
             "#f7f7f7"
            ],
            [
             0.6,
             "#e6f5d0"
            ],
            [
             0.7,
             "#b8e186"
            ],
            [
             0.8,
             "#7fbc41"
            ],
            [
             0.9,
             "#4d9221"
            ],
            [
             1,
             "#276419"
            ]
           ],
           "sequential": [
            [
             0,
             "#0d0887"
            ],
            [
             0.1111111111111111,
             "#46039f"
            ],
            [
             0.2222222222222222,
             "#7201a8"
            ],
            [
             0.3333333333333333,
             "#9c179e"
            ],
            [
             0.4444444444444444,
             "#bd3786"
            ],
            [
             0.5555555555555556,
             "#d8576b"
            ],
            [
             0.6666666666666666,
             "#ed7953"
            ],
            [
             0.7777777777777778,
             "#fb9f3a"
            ],
            [
             0.8888888888888888,
             "#fdca26"
            ],
            [
             1,
             "#f0f921"
            ]
           ],
           "sequentialminus": [
            [
             0,
             "#0d0887"
            ],
            [
             0.1111111111111111,
             "#46039f"
            ],
            [
             0.2222222222222222,
             "#7201a8"
            ],
            [
             0.3333333333333333,
             "#9c179e"
            ],
            [
             0.4444444444444444,
             "#bd3786"
            ],
            [
             0.5555555555555556,
             "#d8576b"
            ],
            [
             0.6666666666666666,
             "#ed7953"
            ],
            [
             0.7777777777777778,
             "#fb9f3a"
            ],
            [
             0.8888888888888888,
             "#fdca26"
            ],
            [
             1,
             "#f0f921"
            ]
           ]
          },
          "colorway": [
           "#636efa",
           "#EF553B",
           "#00cc96",
           "#ab63fa",
           "#FFA15A",
           "#19d3f3",
           "#FF6692",
           "#B6E880",
           "#FF97FF",
           "#FECB52"
          ],
          "font": {
           "color": "#2a3f5f"
          },
          "geo": {
           "bgcolor": "white",
           "lakecolor": "white",
           "landcolor": "#E5ECF6",
           "showlakes": true,
           "showland": true,
           "subunitcolor": "white"
          },
          "hoverlabel": {
           "align": "left"
          },
          "hovermode": "closest",
          "mapbox": {
           "style": "light"
          },
          "paper_bgcolor": "white",
          "plot_bgcolor": "#E5ECF6",
          "polar": {
           "angularaxis": {
            "gridcolor": "white",
            "linecolor": "white",
            "ticks": ""
           },
           "bgcolor": "#E5ECF6",
           "radialaxis": {
            "gridcolor": "white",
            "linecolor": "white",
            "ticks": ""
           }
          },
          "scene": {
           "xaxis": {
            "backgroundcolor": "#E5ECF6",
            "gridcolor": "white",
            "gridwidth": 2,
            "linecolor": "white",
            "showbackground": true,
            "ticks": "",
            "zerolinecolor": "white"
           },
           "yaxis": {
            "backgroundcolor": "#E5ECF6",
            "gridcolor": "white",
            "gridwidth": 2,
            "linecolor": "white",
            "showbackground": true,
            "ticks": "",
            "zerolinecolor": "white"
           },
           "zaxis": {
            "backgroundcolor": "#E5ECF6",
            "gridcolor": "white",
            "gridwidth": 2,
            "linecolor": "white",
            "showbackground": true,
            "ticks": "",
            "zerolinecolor": "white"
           }
          },
          "shapedefaults": {
           "line": {
            "color": "#2a3f5f"
           }
          },
          "ternary": {
           "aaxis": {
            "gridcolor": "white",
            "linecolor": "white",
            "ticks": ""
           },
           "baxis": {
            "gridcolor": "white",
            "linecolor": "white",
            "ticks": ""
           },
           "bgcolor": "#E5ECF6",
           "caxis": {
            "gridcolor": "white",
            "linecolor": "white",
            "ticks": ""
           }
          },
          "title": {
           "x": 0.05
          },
          "xaxis": {
           "automargin": true,
           "gridcolor": "white",
           "linecolor": "white",
           "ticks": "",
           "title": {
            "standoff": 15
           },
           "zerolinecolor": "white",
           "zerolinewidth": 2
          },
          "yaxis": {
           "automargin": true,
           "gridcolor": "white",
           "linecolor": "white",
           "ticks": "",
           "title": {
            "standoff": 15
           },
           "zerolinecolor": "white",
           "zerolinewidth": 2
          }
         }
        },
        "title": {
         "text": "2D Bubble Plot of Learning Strategies"
        },
        "xaxis": {
         "anchor": "y",
         "domain": [
          0,
          0.31999999999999995
         ],
         "title": {
          "text": "Initial Cooperation Probability"
         },
         "type": "category"
        },
        "xaxis2": {
         "anchor": "y2",
         "domain": [
          0.33999999999999997,
          0.6599999999999999
         ],
         "matches": "x",
         "title": {
          "text": "Initial Cooperation Probability"
         },
         "type": "category"
        },
        "xaxis3": {
         "anchor": "y3",
         "domain": [
          0.6799999999999999,
          0.9999999999999999
         ],
         "matches": "x",
         "title": {
          "text": "Initial Cooperation Probability"
         },
         "type": "category"
        },
        "yaxis": {
         "anchor": "x",
         "domain": [
          0,
          1
         ],
         "title": {
          "text": "Primary Ratio"
         },
         "type": "category"
        },
        "yaxis2": {
         "anchor": "x2",
         "domain": [
          0,
          1
         ],
         "matches": "y",
         "showticklabels": false,
         "type": "category"
        },
        "yaxis3": {
         "anchor": "x3",
         "domain": [
          0,
          1
         ],
         "matches": "y",
         "showticklabels": false,
         "type": "category"
        }
       }
      }
     },
     "metadata": {},
     "output_type": "display_data"
    }
   ],
   "source": [
    "# creating a bubble plot to explore the average scores for intital cooperator probabilities and the primary strategy ratio\n",
    "\n",
    "\n",
    "grouped_po['initial_cooperate_prob'] = grouped_po['initial_cooperate_prob'].astype(float)\n",
    "grouped_po['primary_ratio'] = grouped_po['primary_ratio'].astype(float)\n",
    "\n",
    "\n",
    "grouped_po['initial_cooperate_prob'] = pd.cut(grouped_po['initial_cooperate_prob'], \n",
    "                                              bins=np.concatenate(([0], initial_cooperate_prob_range + 0.125)), \n",
    "                                              labels=initial_cooperate_prob_range, include_lowest=True)\n",
    "grouped_po['primary_ratio'] = pd.cut(grouped_po['primary_ratio'], \n",
    "                                     bins=np.concatenate(([0], primary_strategy_range + 0.1)), \n",
    "                                     labels=primary_strategy_range, include_lowest=True)\n",
    "\n",
    "grouped_po['initial_cooperate_prob'] = grouped_po['initial_cooperate_prob'].astype(str)\n",
    "grouped_po['primary_ratio'] = grouped_po['primary_ratio'].astype(str)\n",
    "\n",
    "# calculate max score for normalization\n",
    "max_score = grouped_po['Average Score(Frequency Dependent)'].max()\n",
    "\n",
    "# create the bubble plot for each strategy\n",
    "fig = px.scatter(grouped_po, x='initial_cooperate_prob', y='primary_ratio', \n",
    "                 size='Average Score(Frequency Dependent)', \n",
    "                 color='primary_strategy', \n",
    "                 facet_col='primary_strategy',\n",
    "                 size_max=50,  \n",
    "                 labels={\n",
    "                     \"initial_cooperate_prob\": \"Initial Cooperation Probability\",\n",
    "                     \"primary_ratio\": \"Primary Ratio\",\n",
    "                     \"Average Score(Frequency Dependent)\": \"Average Score\"\n",
    "                 },\n",
    "                 title=\"2D Bubble Plot of Learning Strategies\")\n",
    "\n",
    "# Update layout for better readability\n",
    "fig.update_layout(legend_title_text='Strategy', xaxis_title=\"Initial Cooperation Probability\",\n",
    "                  yaxis_title=\"Primary Ratio\")\n",
    "fig.update_xaxes(type='category')\n",
    "fig.update_yaxes(type='category')\n",
    "\n",
    "fig.show()"
   ]
  },
  {
   "cell_type": "code",
   "execution_count": 176,
   "metadata": {},
   "outputs": [
    {
     "data": {
      "application/vnd.plotly.v1+json": {
       "config": {
        "plotlyServerURL": "https://plot.ly"
       },
       "data": [
        {
         "hovertemplate": "primary_strategy=Frequency Dependent Learning<br>Initial Cooperation Probability=%{x}<br>Primary Strategy Distribution=%{y}<br>Average Score=%{marker.size}<extra></extra>",
         "legendgroup": "Frequency Dependent Learning",
         "marker": {
          "color": "dodgerblue",
          "size": [
           29.903321328531415,
           8.035119496855346,
           3.2093515981735163,
           224.96974789915967,
           259.4450566037736,
           248.00513242009131,
           297.94137655062025,
           369.92812578616355,
           393.08926027397257
          ],
          "sizemode": "area",
          "sizeref": 0.10919146118721461,
          "symbol": "circle"
         },
         "mode": "markers",
         "name": "Frequency Dependent Learning",
         "orientation": "v",
         "showlegend": true,
         "type": "scatter",
         "x": [
          "25%",
          "25%",
          "25%",
          "50%",
          "50%",
          "50%",
          "75%",
          "75%",
          "75%"
         ],
         "xaxis": "x",
         "y": [
          "33%",
          "53%",
          "73%",
          "33%",
          "53%",
          "73%",
          "33%",
          "53%",
          "73%"
         ],
         "yaxis": "y"
        },
        {
         "hovertemplate": "primary_strategy=Success Base Learning<br>Initial Cooperation Probability=%{x}<br>Primary Strategy Distribution=%{y}<br>Average Score=%{marker.size}<extra></extra>",
         "legendgroup": "Success Base Learning",
         "marker": {
          "color": "mediumseagreen",
          "size": [
           28.918087234893957,
           49.852924474730266,
           100.30356083086053,
           225.87947178871548,
           238.13356047700168,
           193.18694362017806,
           303.9921168467387,
           248.43009653605907,
           217.70178041543028
          ],
          "sizemode": "area",
          "sizeref": 0.10919146118721461,
          "symbol": "circle"
         },
         "mode": "markers",
         "name": "Success Base Learning",
         "orientation": "v",
         "showlegend": true,
         "type": "scatter",
         "x": [
          "25%",
          "25%",
          "25%",
          "50%",
          "50%",
          "50%",
          "75%",
          "75%",
          "75%"
         ],
         "xaxis": "x2",
         "y": [
          "33%",
          "53%",
          "73%",
          "33%",
          "53%",
          "73%",
          "33%",
          "53%",
          "73%"
         ],
         "yaxis": "y2"
        },
        {
         "hovertemplate": "primary_strategy=Random Copying<br>Initial Cooperation Probability=%{x}<br>Primary Strategy Distribution=%{y}<br>Average Score=%{marker.size}<extra></extra>",
         "legendgroup": "Random Copying",
         "marker": {
          "color": "red",
          "size": [
           18.71456582633053,
           22.01572969903464,
           25.42393669634026,
           216.27246898759503,
           146.5290176036343,
           101.97566765578634,
           298.04093637454986,
           246.22180579216356,
           184.3776458951533
          ],
          "sizemode": "area",
          "sizeref": 0.10919146118721461,
          "symbol": "circle"
         },
         "mode": "markers",
         "name": "Random Copying",
         "orientation": "v",
         "showlegend": true,
         "type": "scatter",
         "x": [
          "25%",
          "25%",
          "25%",
          "50%",
          "50%",
          "50%",
          "75%",
          "75%",
          "75%"
         ],
         "xaxis": "x3",
         "y": [
          "33%",
          "53%",
          "73%",
          "33%",
          "53%",
          "73%",
          "33%",
          "53%",
          "73%"
         ],
         "yaxis": "y3"
        }
       ],
       "layout": {
        "annotations": [
         {
          "font": {},
          "showarrow": false,
          "text": "a) Frequency Dependent Learning",
          "x": 0.15999999999999998,
          "xanchor": "center",
          "xref": "paper",
          "y": 1,
          "yanchor": "bottom",
          "yref": "paper"
         },
         {
          "font": {},
          "showarrow": false,
          "text": "b) Success Base Learning",
          "x": 0.49999999999999994,
          "xanchor": "center",
          "xref": "paper",
          "y": 1,
          "yanchor": "bottom",
          "yref": "paper"
         },
         {
          "font": {},
          "showarrow": false,
          "text": "c) Random Copying",
          "x": 0.8399999999999999,
          "xanchor": "center",
          "xref": "paper",
          "y": 1,
          "yanchor": "bottom",
          "yref": "paper"
         }
        ],
        "margin": {
         "t": 60
        },
        "plot_bgcolor": "floralwhite",
        "template": {
         "data": {
          "bar": [
           {
            "error_x": {
             "color": "#2a3f5f"
            },
            "error_y": {
             "color": "#2a3f5f"
            },
            "marker": {
             "line": {
              "color": "#E5ECF6",
              "width": 0.5
             },
             "pattern": {
              "fillmode": "overlay",
              "size": 10,
              "solidity": 0.2
             }
            },
            "type": "bar"
           }
          ],
          "barpolar": [
           {
            "marker": {
             "line": {
              "color": "#E5ECF6",
              "width": 0.5
             },
             "pattern": {
              "fillmode": "overlay",
              "size": 10,
              "solidity": 0.2
             }
            },
            "type": "barpolar"
           }
          ],
          "carpet": [
           {
            "aaxis": {
             "endlinecolor": "#2a3f5f",
             "gridcolor": "white",
             "linecolor": "white",
             "minorgridcolor": "white",
             "startlinecolor": "#2a3f5f"
            },
            "baxis": {
             "endlinecolor": "#2a3f5f",
             "gridcolor": "white",
             "linecolor": "white",
             "minorgridcolor": "white",
             "startlinecolor": "#2a3f5f"
            },
            "type": "carpet"
           }
          ],
          "choropleth": [
           {
            "colorbar": {
             "outlinewidth": 0,
             "ticks": ""
            },
            "type": "choropleth"
           }
          ],
          "contour": [
           {
            "colorbar": {
             "outlinewidth": 0,
             "ticks": ""
            },
            "colorscale": [
             [
              0,
              "#0d0887"
             ],
             [
              0.1111111111111111,
              "#46039f"
             ],
             [
              0.2222222222222222,
              "#7201a8"
             ],
             [
              0.3333333333333333,
              "#9c179e"
             ],
             [
              0.4444444444444444,
              "#bd3786"
             ],
             [
              0.5555555555555556,
              "#d8576b"
             ],
             [
              0.6666666666666666,
              "#ed7953"
             ],
             [
              0.7777777777777778,
              "#fb9f3a"
             ],
             [
              0.8888888888888888,
              "#fdca26"
             ],
             [
              1,
              "#f0f921"
             ]
            ],
            "type": "contour"
           }
          ],
          "contourcarpet": [
           {
            "colorbar": {
             "outlinewidth": 0,
             "ticks": ""
            },
            "type": "contourcarpet"
           }
          ],
          "heatmap": [
           {
            "colorbar": {
             "outlinewidth": 0,
             "ticks": ""
            },
            "colorscale": [
             [
              0,
              "#0d0887"
             ],
             [
              0.1111111111111111,
              "#46039f"
             ],
             [
              0.2222222222222222,
              "#7201a8"
             ],
             [
              0.3333333333333333,
              "#9c179e"
             ],
             [
              0.4444444444444444,
              "#bd3786"
             ],
             [
              0.5555555555555556,
              "#d8576b"
             ],
             [
              0.6666666666666666,
              "#ed7953"
             ],
             [
              0.7777777777777778,
              "#fb9f3a"
             ],
             [
              0.8888888888888888,
              "#fdca26"
             ],
             [
              1,
              "#f0f921"
             ]
            ],
            "type": "heatmap"
           }
          ],
          "heatmapgl": [
           {
            "colorbar": {
             "outlinewidth": 0,
             "ticks": ""
            },
            "colorscale": [
             [
              0,
              "#0d0887"
             ],
             [
              0.1111111111111111,
              "#46039f"
             ],
             [
              0.2222222222222222,
              "#7201a8"
             ],
             [
              0.3333333333333333,
              "#9c179e"
             ],
             [
              0.4444444444444444,
              "#bd3786"
             ],
             [
              0.5555555555555556,
              "#d8576b"
             ],
             [
              0.6666666666666666,
              "#ed7953"
             ],
             [
              0.7777777777777778,
              "#fb9f3a"
             ],
             [
              0.8888888888888888,
              "#fdca26"
             ],
             [
              1,
              "#f0f921"
             ]
            ],
            "type": "heatmapgl"
           }
          ],
          "histogram": [
           {
            "marker": {
             "pattern": {
              "fillmode": "overlay",
              "size": 10,
              "solidity": 0.2
             }
            },
            "type": "histogram"
           }
          ],
          "histogram2d": [
           {
            "colorbar": {
             "outlinewidth": 0,
             "ticks": ""
            },
            "colorscale": [
             [
              0,
              "#0d0887"
             ],
             [
              0.1111111111111111,
              "#46039f"
             ],
             [
              0.2222222222222222,
              "#7201a8"
             ],
             [
              0.3333333333333333,
              "#9c179e"
             ],
             [
              0.4444444444444444,
              "#bd3786"
             ],
             [
              0.5555555555555556,
              "#d8576b"
             ],
             [
              0.6666666666666666,
              "#ed7953"
             ],
             [
              0.7777777777777778,
              "#fb9f3a"
             ],
             [
              0.8888888888888888,
              "#fdca26"
             ],
             [
              1,
              "#f0f921"
             ]
            ],
            "type": "histogram2d"
           }
          ],
          "histogram2dcontour": [
           {
            "colorbar": {
             "outlinewidth": 0,
             "ticks": ""
            },
            "colorscale": [
             [
              0,
              "#0d0887"
             ],
             [
              0.1111111111111111,
              "#46039f"
             ],
             [
              0.2222222222222222,
              "#7201a8"
             ],
             [
              0.3333333333333333,
              "#9c179e"
             ],
             [
              0.4444444444444444,
              "#bd3786"
             ],
             [
              0.5555555555555556,
              "#d8576b"
             ],
             [
              0.6666666666666666,
              "#ed7953"
             ],
             [
              0.7777777777777778,
              "#fb9f3a"
             ],
             [
              0.8888888888888888,
              "#fdca26"
             ],
             [
              1,
              "#f0f921"
             ]
            ],
            "type": "histogram2dcontour"
           }
          ],
          "mesh3d": [
           {
            "colorbar": {
             "outlinewidth": 0,
             "ticks": ""
            },
            "type": "mesh3d"
           }
          ],
          "parcoords": [
           {
            "line": {
             "colorbar": {
              "outlinewidth": 0,
              "ticks": ""
             }
            },
            "type": "parcoords"
           }
          ],
          "pie": [
           {
            "automargin": true,
            "type": "pie"
           }
          ],
          "scatter": [
           {
            "fillpattern": {
             "fillmode": "overlay",
             "size": 10,
             "solidity": 0.2
            },
            "type": "scatter"
           }
          ],
          "scatter3d": [
           {
            "line": {
             "colorbar": {
              "outlinewidth": 0,
              "ticks": ""
             }
            },
            "marker": {
             "colorbar": {
              "outlinewidth": 0,
              "ticks": ""
             }
            },
            "type": "scatter3d"
           }
          ],
          "scattercarpet": [
           {
            "marker": {
             "colorbar": {
              "outlinewidth": 0,
              "ticks": ""
             }
            },
            "type": "scattercarpet"
           }
          ],
          "scattergeo": [
           {
            "marker": {
             "colorbar": {
              "outlinewidth": 0,
              "ticks": ""
             }
            },
            "type": "scattergeo"
           }
          ],
          "scattergl": [
           {
            "marker": {
             "colorbar": {
              "outlinewidth": 0,
              "ticks": ""
             }
            },
            "type": "scattergl"
           }
          ],
          "scattermapbox": [
           {
            "marker": {
             "colorbar": {
              "outlinewidth": 0,
              "ticks": ""
             }
            },
            "type": "scattermapbox"
           }
          ],
          "scatterpolar": [
           {
            "marker": {
             "colorbar": {
              "outlinewidth": 0,
              "ticks": ""
             }
            },
            "type": "scatterpolar"
           }
          ],
          "scatterpolargl": [
           {
            "marker": {
             "colorbar": {
              "outlinewidth": 0,
              "ticks": ""
             }
            },
            "type": "scatterpolargl"
           }
          ],
          "scatterternary": [
           {
            "marker": {
             "colorbar": {
              "outlinewidth": 0,
              "ticks": ""
             }
            },
            "type": "scatterternary"
           }
          ],
          "surface": [
           {
            "colorbar": {
             "outlinewidth": 0,
             "ticks": ""
            },
            "colorscale": [
             [
              0,
              "#0d0887"
             ],
             [
              0.1111111111111111,
              "#46039f"
             ],
             [
              0.2222222222222222,
              "#7201a8"
             ],
             [
              0.3333333333333333,
              "#9c179e"
             ],
             [
              0.4444444444444444,
              "#bd3786"
             ],
             [
              0.5555555555555556,
              "#d8576b"
             ],
             [
              0.6666666666666666,
              "#ed7953"
             ],
             [
              0.7777777777777778,
              "#fb9f3a"
             ],
             [
              0.8888888888888888,
              "#fdca26"
             ],
             [
              1,
              "#f0f921"
             ]
            ],
            "type": "surface"
           }
          ],
          "table": [
           {
            "cells": {
             "fill": {
              "color": "#EBF0F8"
             },
             "line": {
              "color": "white"
             }
            },
            "header": {
             "fill": {
              "color": "#C8D4E3"
             },
             "line": {
              "color": "white"
             }
            },
            "type": "table"
           }
          ]
         },
         "layout": {
          "annotationdefaults": {
           "arrowcolor": "#2a3f5f",
           "arrowhead": 0,
           "arrowwidth": 1
          },
          "autotypenumbers": "strict",
          "coloraxis": {
           "colorbar": {
            "outlinewidth": 0,
            "ticks": ""
           }
          },
          "colorscale": {
           "diverging": [
            [
             0,
             "#8e0152"
            ],
            [
             0.1,
             "#c51b7d"
            ],
            [
             0.2,
             "#de77ae"
            ],
            [
             0.3,
             "#f1b6da"
            ],
            [
             0.4,
             "#fde0ef"
            ],
            [
             0.5,
             "#f7f7f7"
            ],
            [
             0.6,
             "#e6f5d0"
            ],
            [
             0.7,
             "#b8e186"
            ],
            [
             0.8,
             "#7fbc41"
            ],
            [
             0.9,
             "#4d9221"
            ],
            [
             1,
             "#276419"
            ]
           ],
           "sequential": [
            [
             0,
             "#0d0887"
            ],
            [
             0.1111111111111111,
             "#46039f"
            ],
            [
             0.2222222222222222,
             "#7201a8"
            ],
            [
             0.3333333333333333,
             "#9c179e"
            ],
            [
             0.4444444444444444,
             "#bd3786"
            ],
            [
             0.5555555555555556,
             "#d8576b"
            ],
            [
             0.6666666666666666,
             "#ed7953"
            ],
            [
             0.7777777777777778,
             "#fb9f3a"
            ],
            [
             0.8888888888888888,
             "#fdca26"
            ],
            [
             1,
             "#f0f921"
            ]
           ],
           "sequentialminus": [
            [
             0,
             "#0d0887"
            ],
            [
             0.1111111111111111,
             "#46039f"
            ],
            [
             0.2222222222222222,
             "#7201a8"
            ],
            [
             0.3333333333333333,
             "#9c179e"
            ],
            [
             0.4444444444444444,
             "#bd3786"
            ],
            [
             0.5555555555555556,
             "#d8576b"
            ],
            [
             0.6666666666666666,
             "#ed7953"
            ],
            [
             0.7777777777777778,
             "#fb9f3a"
            ],
            [
             0.8888888888888888,
             "#fdca26"
            ],
            [
             1,
             "#f0f921"
            ]
           ]
          },
          "colorway": [
           "#636efa",
           "#EF553B",
           "#00cc96",
           "#ab63fa",
           "#FFA15A",
           "#19d3f3",
           "#FF6692",
           "#B6E880",
           "#FF97FF",
           "#FECB52"
          ],
          "font": {
           "color": "#2a3f5f"
          },
          "geo": {
           "bgcolor": "white",
           "lakecolor": "white",
           "landcolor": "#E5ECF6",
           "showlakes": true,
           "showland": true,
           "subunitcolor": "white"
          },
          "hoverlabel": {
           "align": "left"
          },
          "hovermode": "closest",
          "mapbox": {
           "style": "light"
          },
          "paper_bgcolor": "white",
          "plot_bgcolor": "#E5ECF6",
          "polar": {
           "angularaxis": {
            "gridcolor": "white",
            "linecolor": "white",
            "ticks": ""
           },
           "bgcolor": "#E5ECF6",
           "radialaxis": {
            "gridcolor": "white",
            "linecolor": "white",
            "ticks": ""
           }
          },
          "scene": {
           "xaxis": {
            "backgroundcolor": "#E5ECF6",
            "gridcolor": "white",
            "gridwidth": 2,
            "linecolor": "white",
            "showbackground": true,
            "ticks": "",
            "zerolinecolor": "white"
           },
           "yaxis": {
            "backgroundcolor": "#E5ECF6",
            "gridcolor": "white",
            "gridwidth": 2,
            "linecolor": "white",
            "showbackground": true,
            "ticks": "",
            "zerolinecolor": "white"
           },
           "zaxis": {
            "backgroundcolor": "#E5ECF6",
            "gridcolor": "white",
            "gridwidth": 2,
            "linecolor": "white",
            "showbackground": true,
            "ticks": "",
            "zerolinecolor": "white"
           }
          },
          "shapedefaults": {
           "line": {
            "color": "#2a3f5f"
           }
          },
          "ternary": {
           "aaxis": {
            "gridcolor": "white",
            "linecolor": "white",
            "ticks": ""
           },
           "baxis": {
            "gridcolor": "white",
            "linecolor": "white",
            "ticks": ""
           },
           "bgcolor": "#E5ECF6",
           "caxis": {
            "gridcolor": "white",
            "linecolor": "white",
            "ticks": ""
           }
          },
          "title": {
           "x": 0.05
          },
          "xaxis": {
           "automargin": true,
           "gridcolor": "white",
           "linecolor": "white",
           "ticks": "",
           "title": {
            "standoff": 15
           },
           "zerolinecolor": "white",
           "zerolinewidth": 2
          },
          "yaxis": {
           "automargin": true,
           "gridcolor": "white",
           "linecolor": "white",
           "ticks": "",
           "title": {
            "standoff": 15
           },
           "zerolinecolor": "white",
           "zerolinewidth": 2
          }
         }
        },
        "xaxis": {
         "anchor": "y",
         "domain": [
          0,
          0.31999999999999995
         ],
         "title": {
          "text": ""
         },
         "type": "category"
        },
        "xaxis2": {
         "anchor": "y2",
         "domain": [
          0.33999999999999997,
          0.6599999999999999
         ],
         "matches": "x",
         "title": {
          "text": ""
         },
         "type": "category"
        },
        "xaxis3": {
         "anchor": "y3",
         "domain": [
          0.6799999999999999,
          0.9999999999999999
         ],
         "matches": "x",
         "title": {
          "text": ""
         },
         "type": "category"
        },
        "yaxis": {
         "anchor": "x",
         "domain": [
          0,
          1
         ],
         "title": {
          "text": "Primary Strategy Distribution"
         }
        },
        "yaxis2": {
         "anchor": "x2",
         "domain": [
          0,
          1
         ],
         "matches": "y",
         "showticklabels": false
        },
        "yaxis3": {
         "anchor": "x3",
         "domain": [
          0,
          1
         ],
         "matches": "y",
         "showticklabels": false
        }
       }
      }
     },
     "metadata": {},
     "output_type": "display_data"
    }
   ],
   "source": [
    "# change the background color and the bubble colors\n",
    "\n",
    "grouped_po['initial_cooperate_prob'] = pd.to_numeric(grouped_po['initial_cooperate_prob'], errors='coerce')\n",
    "grouped_po['primary_ratio'] = pd.to_numeric(grouped_po['primary_ratio'], errors='coerce')\n",
    "\n",
    "color_palette = {\n",
    "    'Frequency Dependent Learning': 'dodgerblue',\n",
    "    'Success Base Learning': 'mediumseagreen',\n",
    "    'Random Copying': 'red'\n",
    "}\n",
    "\n",
    "initial_cooperate_prob_range = np.array([0.25, 0.5, 0.75])  \n",
    "primary_strategy_range = np.array([1/3, 0.53, 0.73])      \n",
    "\n",
    "# create bins and labels\n",
    "bins_icp = np.concatenate(([0], initial_cooperate_prob_range + 0.125))\n",
    "labels_icp = ['25%', '50%', '75%']\n",
    "\n",
    "bins_pr = np.concatenate(([0], primary_strategy_range + 0.1))\n",
    "labels_pr = ['33%', '53%', '73%']\n",
    "\n",
    "# categorization using pd.cut\n",
    "grouped_po['initial_cooperate_prob_cat'] = pd.cut(grouped_po['initial_cooperate_prob'], bins=bins_icp, labels=labels_icp, include_lowest=True)\n",
    "grouped_po['primary_ratio_cat'] = pd.cut(grouped_po['primary_ratio'], bins=bins_pr, labels=labels_pr, include_lowest=True)\n",
    "\n",
    "fig = px.scatter(grouped_po, x='initial_cooperate_prob_cat', y='primary_ratio_cat', \n",
    "                 size='Average Score(Frequency Dependent)', \n",
    "                 color='primary_strategy', \n",
    "                 facet_col='primary_strategy',\n",
    "                 category_orders={\"primary_strategy\": [\"Frequency Dependent Learning\", \"Success Base Learning\", \"Random Copying\"]},\n",
    "                 color_discrete_map=color_palette,\n",
    "                 size_max=60, labels={\n",
    "                     \"initial_cooperate_prob_cat\": \"Initial Cooperation Probability\",\n",
    "                     \"primary_ratio_cat\": \"Primary Strategy Distribution\",\n",
    "                     \"Average Score(Frequency Dependent)\": \"Average Score\"\n",
    "                 } )\n",
    "\n",
    "\n",
    "fig.update_layout(\n",
    "    plot_bgcolor='floralwhite', \n",
    "    legend_title_text='Strategy',\n",
    "    xaxis_title=\"\",\n",
    "    yaxis_title=\"Primary Strategy Distribution\",\n",
    "    legend=dict(itemsizing='constant')\n",
    ")\n",
    "\n",
    "\n",
    "fig.layout.legend = None\n",
    "\n",
    "# add subplot titles\n",
    "subplot_titles = ['a) Frequency Dependent Learning', 'b) Success Base Learning', 'c) Random Copying']\n",
    "for i, subplot_title in enumerate(subplot_titles, 1):\n",
    "    fig.layout.annotations[i-1].text = subplot_title\n",
    "\n",
    "\n",
    "fig.update_xaxes(type='category', title=\"\")\n",
    "fig.show()\n"
   ]
  },
  {
   "cell_type": "code",
   "execution_count": 178,
   "metadata": {},
   "outputs": [
    {
     "data": {
      "application/vnd.plotly.v1+json": {
       "config": {
        "plotlyServerURL": "https://plot.ly"
       },
       "data": [
        {
         "hovertemplate": "primary_strategy=Frequency Dependent Learning<br>Initial Cooperation Probability=%{x}<br>Primary Strategy Distribution=%{y}<br>Average Score=%{marker.size}<extra></extra>",
         "legendgroup": "Frequency Dependent Learning",
         "marker": {
          "color": "dodgerblue",
          "size": [
           29.903321328531415,
           8.035119496855346,
           3.2093515981735163,
           224.96974789915967,
           259.4450566037736,
           248.00513242009131,
           297.94137655062025,
           369.92812578616355,
           393.08926027397257
          ],
          "sizemode": "area",
          "sizeref": 0.10919146118721461,
          "symbol": "circle"
         },
         "mode": "markers",
         "name": "Frequency Dependent Learning",
         "orientation": "v",
         "showlegend": true,
         "type": "scatter",
         "x": [
          "25%",
          "25%",
          "25%",
          "50%",
          "50%",
          "50%",
          "75%",
          "75%",
          "75%"
         ],
         "xaxis": "x",
         "y": [
          "33%",
          "53%",
          "73%",
          "33%",
          "53%",
          "73%",
          "33%",
          "53%",
          "73%"
         ],
         "yaxis": "y"
        },
        {
         "hovertemplate": "primary_strategy=Success Base Learning<br>Initial Cooperation Probability=%{x}<br>Primary Strategy Distribution=%{y}<br>Average Score=%{marker.size}<extra></extra>",
         "legendgroup": "Success Base Learning",
         "marker": {
          "color": "mediumseagreen",
          "size": [
           28.918087234893957,
           49.852924474730266,
           100.30356083086053,
           225.87947178871548,
           238.13356047700168,
           193.18694362017806,
           303.9921168467387,
           248.43009653605907,
           217.70178041543028
          ],
          "sizemode": "area",
          "sizeref": 0.10919146118721461,
          "symbol": "circle"
         },
         "mode": "markers",
         "name": "Success Base Learning",
         "orientation": "v",
         "showlegend": true,
         "type": "scatter",
         "x": [
          "25%",
          "25%",
          "25%",
          "50%",
          "50%",
          "50%",
          "75%",
          "75%",
          "75%"
         ],
         "xaxis": "x2",
         "y": [
          "33%",
          "53%",
          "73%",
          "33%",
          "53%",
          "73%",
          "33%",
          "53%",
          "73%"
         ],
         "yaxis": "y2"
        },
        {
         "hovertemplate": "primary_strategy=Random Copying<br>Initial Cooperation Probability=%{x}<br>Primary Strategy Distribution=%{y}<br>Average Score=%{marker.size}<extra></extra>",
         "legendgroup": "Random Copying",
         "marker": {
          "color": "red",
          "size": [
           18.71456582633053,
           22.01572969903464,
           25.42393669634026,
           216.27246898759503,
           146.5290176036343,
           101.97566765578634,
           298.04093637454986,
           246.22180579216356,
           184.3776458951533
          ],
          "sizemode": "area",
          "sizeref": 0.10919146118721461,
          "symbol": "circle"
         },
         "mode": "markers",
         "name": "Random Copying",
         "orientation": "v",
         "showlegend": true,
         "type": "scatter",
         "x": [
          "25%",
          "25%",
          "25%",
          "50%",
          "50%",
          "50%",
          "75%",
          "75%",
          "75%"
         ],
         "xaxis": "x3",
         "y": [
          "33%",
          "53%",
          "73%",
          "33%",
          "53%",
          "73%",
          "33%",
          "53%",
          "73%"
         ],
         "yaxis": "y3"
        }
       ],
       "layout": {
        "annotations": [
         {
          "showarrow": false,
          "text": "a) Frequency Dependent Learning",
          "x": 0.15999999999999998,
          "xanchor": "center",
          "xref": "paper",
          "y": 1,
          "yanchor": "bottom",
          "yref": "paper"
         },
         {
          "showarrow": false,
          "text": "b) Success Base Learning",
          "x": 0.49999999999999994,
          "xanchor": "center",
          "xref": "paper",
          "y": 1,
          "yanchor": "bottom",
          "yref": "paper"
         },
         {
          "showarrow": false,
          "text": "c) Random Copying",
          "x": 0.8399999999999999,
          "xanchor": "center",
          "xref": "paper",
          "y": 1,
          "yanchor": "bottom",
          "yref": "paper"
         },
         {
          "align": "center",
          "font": {
           "color": "black",
           "size": 12
          },
          "showarrow": false,
          "text": "Initial Cooperation Probability",
          "x": 0.5,
          "xref": "paper",
          "y": -0.2,
          "yref": "paper"
         }
        ],
        "margin": {
         "t": 60
        },
        "plot_bgcolor": "floralwhite",
        "showlegend": false,
        "template": {
         "data": {
          "bar": [
           {
            "error_x": {
             "color": "#2a3f5f"
            },
            "error_y": {
             "color": "#2a3f5f"
            },
            "marker": {
             "line": {
              "color": "#E5ECF6",
              "width": 0.5
             },
             "pattern": {
              "fillmode": "overlay",
              "size": 10,
              "solidity": 0.2
             }
            },
            "type": "bar"
           }
          ],
          "barpolar": [
           {
            "marker": {
             "line": {
              "color": "#E5ECF6",
              "width": 0.5
             },
             "pattern": {
              "fillmode": "overlay",
              "size": 10,
              "solidity": 0.2
             }
            },
            "type": "barpolar"
           }
          ],
          "carpet": [
           {
            "aaxis": {
             "endlinecolor": "#2a3f5f",
             "gridcolor": "white",
             "linecolor": "white",
             "minorgridcolor": "white",
             "startlinecolor": "#2a3f5f"
            },
            "baxis": {
             "endlinecolor": "#2a3f5f",
             "gridcolor": "white",
             "linecolor": "white",
             "minorgridcolor": "white",
             "startlinecolor": "#2a3f5f"
            },
            "type": "carpet"
           }
          ],
          "choropleth": [
           {
            "colorbar": {
             "outlinewidth": 0,
             "ticks": ""
            },
            "type": "choropleth"
           }
          ],
          "contour": [
           {
            "colorbar": {
             "outlinewidth": 0,
             "ticks": ""
            },
            "colorscale": [
             [
              0,
              "#0d0887"
             ],
             [
              0.1111111111111111,
              "#46039f"
             ],
             [
              0.2222222222222222,
              "#7201a8"
             ],
             [
              0.3333333333333333,
              "#9c179e"
             ],
             [
              0.4444444444444444,
              "#bd3786"
             ],
             [
              0.5555555555555556,
              "#d8576b"
             ],
             [
              0.6666666666666666,
              "#ed7953"
             ],
             [
              0.7777777777777778,
              "#fb9f3a"
             ],
             [
              0.8888888888888888,
              "#fdca26"
             ],
             [
              1,
              "#f0f921"
             ]
            ],
            "type": "contour"
           }
          ],
          "contourcarpet": [
           {
            "colorbar": {
             "outlinewidth": 0,
             "ticks": ""
            },
            "type": "contourcarpet"
           }
          ],
          "heatmap": [
           {
            "colorbar": {
             "outlinewidth": 0,
             "ticks": ""
            },
            "colorscale": [
             [
              0,
              "#0d0887"
             ],
             [
              0.1111111111111111,
              "#46039f"
             ],
             [
              0.2222222222222222,
              "#7201a8"
             ],
             [
              0.3333333333333333,
              "#9c179e"
             ],
             [
              0.4444444444444444,
              "#bd3786"
             ],
             [
              0.5555555555555556,
              "#d8576b"
             ],
             [
              0.6666666666666666,
              "#ed7953"
             ],
             [
              0.7777777777777778,
              "#fb9f3a"
             ],
             [
              0.8888888888888888,
              "#fdca26"
             ],
             [
              1,
              "#f0f921"
             ]
            ],
            "type": "heatmap"
           }
          ],
          "heatmapgl": [
           {
            "colorbar": {
             "outlinewidth": 0,
             "ticks": ""
            },
            "colorscale": [
             [
              0,
              "#0d0887"
             ],
             [
              0.1111111111111111,
              "#46039f"
             ],
             [
              0.2222222222222222,
              "#7201a8"
             ],
             [
              0.3333333333333333,
              "#9c179e"
             ],
             [
              0.4444444444444444,
              "#bd3786"
             ],
             [
              0.5555555555555556,
              "#d8576b"
             ],
             [
              0.6666666666666666,
              "#ed7953"
             ],
             [
              0.7777777777777778,
              "#fb9f3a"
             ],
             [
              0.8888888888888888,
              "#fdca26"
             ],
             [
              1,
              "#f0f921"
             ]
            ],
            "type": "heatmapgl"
           }
          ],
          "histogram": [
           {
            "marker": {
             "pattern": {
              "fillmode": "overlay",
              "size": 10,
              "solidity": 0.2
             }
            },
            "type": "histogram"
           }
          ],
          "histogram2d": [
           {
            "colorbar": {
             "outlinewidth": 0,
             "ticks": ""
            },
            "colorscale": [
             [
              0,
              "#0d0887"
             ],
             [
              0.1111111111111111,
              "#46039f"
             ],
             [
              0.2222222222222222,
              "#7201a8"
             ],
             [
              0.3333333333333333,
              "#9c179e"
             ],
             [
              0.4444444444444444,
              "#bd3786"
             ],
             [
              0.5555555555555556,
              "#d8576b"
             ],
             [
              0.6666666666666666,
              "#ed7953"
             ],
             [
              0.7777777777777778,
              "#fb9f3a"
             ],
             [
              0.8888888888888888,
              "#fdca26"
             ],
             [
              1,
              "#f0f921"
             ]
            ],
            "type": "histogram2d"
           }
          ],
          "histogram2dcontour": [
           {
            "colorbar": {
             "outlinewidth": 0,
             "ticks": ""
            },
            "colorscale": [
             [
              0,
              "#0d0887"
             ],
             [
              0.1111111111111111,
              "#46039f"
             ],
             [
              0.2222222222222222,
              "#7201a8"
             ],
             [
              0.3333333333333333,
              "#9c179e"
             ],
             [
              0.4444444444444444,
              "#bd3786"
             ],
             [
              0.5555555555555556,
              "#d8576b"
             ],
             [
              0.6666666666666666,
              "#ed7953"
             ],
             [
              0.7777777777777778,
              "#fb9f3a"
             ],
             [
              0.8888888888888888,
              "#fdca26"
             ],
             [
              1,
              "#f0f921"
             ]
            ],
            "type": "histogram2dcontour"
           }
          ],
          "mesh3d": [
           {
            "colorbar": {
             "outlinewidth": 0,
             "ticks": ""
            },
            "type": "mesh3d"
           }
          ],
          "parcoords": [
           {
            "line": {
             "colorbar": {
              "outlinewidth": 0,
              "ticks": ""
             }
            },
            "type": "parcoords"
           }
          ],
          "pie": [
           {
            "automargin": true,
            "type": "pie"
           }
          ],
          "scatter": [
           {
            "fillpattern": {
             "fillmode": "overlay",
             "size": 10,
             "solidity": 0.2
            },
            "type": "scatter"
           }
          ],
          "scatter3d": [
           {
            "line": {
             "colorbar": {
              "outlinewidth": 0,
              "ticks": ""
             }
            },
            "marker": {
             "colorbar": {
              "outlinewidth": 0,
              "ticks": ""
             }
            },
            "type": "scatter3d"
           }
          ],
          "scattercarpet": [
           {
            "marker": {
             "colorbar": {
              "outlinewidth": 0,
              "ticks": ""
             }
            },
            "type": "scattercarpet"
           }
          ],
          "scattergeo": [
           {
            "marker": {
             "colorbar": {
              "outlinewidth": 0,
              "ticks": ""
             }
            },
            "type": "scattergeo"
           }
          ],
          "scattergl": [
           {
            "marker": {
             "colorbar": {
              "outlinewidth": 0,
              "ticks": ""
             }
            },
            "type": "scattergl"
           }
          ],
          "scattermapbox": [
           {
            "marker": {
             "colorbar": {
              "outlinewidth": 0,
              "ticks": ""
             }
            },
            "type": "scattermapbox"
           }
          ],
          "scatterpolar": [
           {
            "marker": {
             "colorbar": {
              "outlinewidth": 0,
              "ticks": ""
             }
            },
            "type": "scatterpolar"
           }
          ],
          "scatterpolargl": [
           {
            "marker": {
             "colorbar": {
              "outlinewidth": 0,
              "ticks": ""
             }
            },
            "type": "scatterpolargl"
           }
          ],
          "scatterternary": [
           {
            "marker": {
             "colorbar": {
              "outlinewidth": 0,
              "ticks": ""
             }
            },
            "type": "scatterternary"
           }
          ],
          "surface": [
           {
            "colorbar": {
             "outlinewidth": 0,
             "ticks": ""
            },
            "colorscale": [
             [
              0,
              "#0d0887"
             ],
             [
              0.1111111111111111,
              "#46039f"
             ],
             [
              0.2222222222222222,
              "#7201a8"
             ],
             [
              0.3333333333333333,
              "#9c179e"
             ],
             [
              0.4444444444444444,
              "#bd3786"
             ],
             [
              0.5555555555555556,
              "#d8576b"
             ],
             [
              0.6666666666666666,
              "#ed7953"
             ],
             [
              0.7777777777777778,
              "#fb9f3a"
             ],
             [
              0.8888888888888888,
              "#fdca26"
             ],
             [
              1,
              "#f0f921"
             ]
            ],
            "type": "surface"
           }
          ],
          "table": [
           {
            "cells": {
             "fill": {
              "color": "#EBF0F8"
             },
             "line": {
              "color": "white"
             }
            },
            "header": {
             "fill": {
              "color": "#C8D4E3"
             },
             "line": {
              "color": "white"
             }
            },
            "type": "table"
           }
          ]
         },
         "layout": {
          "annotationdefaults": {
           "arrowcolor": "#2a3f5f",
           "arrowhead": 0,
           "arrowwidth": 1
          },
          "autotypenumbers": "strict",
          "coloraxis": {
           "colorbar": {
            "outlinewidth": 0,
            "ticks": ""
           }
          },
          "colorscale": {
           "diverging": [
            [
             0,
             "#8e0152"
            ],
            [
             0.1,
             "#c51b7d"
            ],
            [
             0.2,
             "#de77ae"
            ],
            [
             0.3,
             "#f1b6da"
            ],
            [
             0.4,
             "#fde0ef"
            ],
            [
             0.5,
             "#f7f7f7"
            ],
            [
             0.6,
             "#e6f5d0"
            ],
            [
             0.7,
             "#b8e186"
            ],
            [
             0.8,
             "#7fbc41"
            ],
            [
             0.9,
             "#4d9221"
            ],
            [
             1,
             "#276419"
            ]
           ],
           "sequential": [
            [
             0,
             "#0d0887"
            ],
            [
             0.1111111111111111,
             "#46039f"
            ],
            [
             0.2222222222222222,
             "#7201a8"
            ],
            [
             0.3333333333333333,
             "#9c179e"
            ],
            [
             0.4444444444444444,
             "#bd3786"
            ],
            [
             0.5555555555555556,
             "#d8576b"
            ],
            [
             0.6666666666666666,
             "#ed7953"
            ],
            [
             0.7777777777777778,
             "#fb9f3a"
            ],
            [
             0.8888888888888888,
             "#fdca26"
            ],
            [
             1,
             "#f0f921"
            ]
           ],
           "sequentialminus": [
            [
             0,
             "#0d0887"
            ],
            [
             0.1111111111111111,
             "#46039f"
            ],
            [
             0.2222222222222222,
             "#7201a8"
            ],
            [
             0.3333333333333333,
             "#9c179e"
            ],
            [
             0.4444444444444444,
             "#bd3786"
            ],
            [
             0.5555555555555556,
             "#d8576b"
            ],
            [
             0.6666666666666666,
             "#ed7953"
            ],
            [
             0.7777777777777778,
             "#fb9f3a"
            ],
            [
             0.8888888888888888,
             "#fdca26"
            ],
            [
             1,
             "#f0f921"
            ]
           ]
          },
          "colorway": [
           "#636efa",
           "#EF553B",
           "#00cc96",
           "#ab63fa",
           "#FFA15A",
           "#19d3f3",
           "#FF6692",
           "#B6E880",
           "#FF97FF",
           "#FECB52"
          ],
          "font": {
           "color": "#2a3f5f"
          },
          "geo": {
           "bgcolor": "white",
           "lakecolor": "white",
           "landcolor": "#E5ECF6",
           "showlakes": true,
           "showland": true,
           "subunitcolor": "white"
          },
          "hoverlabel": {
           "align": "left"
          },
          "hovermode": "closest",
          "mapbox": {
           "style": "light"
          },
          "paper_bgcolor": "white",
          "plot_bgcolor": "#E5ECF6",
          "polar": {
           "angularaxis": {
            "gridcolor": "white",
            "linecolor": "white",
            "ticks": ""
           },
           "bgcolor": "#E5ECF6",
           "radialaxis": {
            "gridcolor": "white",
            "linecolor": "white",
            "ticks": ""
           }
          },
          "scene": {
           "xaxis": {
            "backgroundcolor": "#E5ECF6",
            "gridcolor": "white",
            "gridwidth": 2,
            "linecolor": "white",
            "showbackground": true,
            "ticks": "",
            "zerolinecolor": "white"
           },
           "yaxis": {
            "backgroundcolor": "#E5ECF6",
            "gridcolor": "white",
            "gridwidth": 2,
            "linecolor": "white",
            "showbackground": true,
            "ticks": "",
            "zerolinecolor": "white"
           },
           "zaxis": {
            "backgroundcolor": "#E5ECF6",
            "gridcolor": "white",
            "gridwidth": 2,
            "linecolor": "white",
            "showbackground": true,
            "ticks": "",
            "zerolinecolor": "white"
           }
          },
          "shapedefaults": {
           "line": {
            "color": "#2a3f5f"
           }
          },
          "ternary": {
           "aaxis": {
            "gridcolor": "white",
            "linecolor": "white",
            "ticks": ""
           },
           "baxis": {
            "gridcolor": "white",
            "linecolor": "white",
            "ticks": ""
           },
           "bgcolor": "#E5ECF6",
           "caxis": {
            "gridcolor": "white",
            "linecolor": "white",
            "ticks": ""
           }
          },
          "title": {
           "x": 0.05
          },
          "xaxis": {
           "automargin": true,
           "gridcolor": "white",
           "linecolor": "white",
           "ticks": "",
           "title": {
            "standoff": 15
           },
           "zerolinecolor": "white",
           "zerolinewidth": 2
          },
          "yaxis": {
           "automargin": true,
           "gridcolor": "white",
           "linecolor": "white",
           "ticks": "",
           "title": {
            "standoff": 15
           },
           "zerolinecolor": "white",
           "zerolinewidth": 2
          }
         }
        },
        "xaxis": {
         "anchor": "y",
         "domain": [
          0,
          0.31999999999999995
         ],
         "title": {},
         "type": "category"
        },
        "xaxis2": {
         "anchor": "y2",
         "domain": [
          0.33999999999999997,
          0.6599999999999999
         ],
         "matches": "x",
         "title": {},
         "type": "category"
        },
        "xaxis3": {
         "anchor": "y3",
         "domain": [
          0.6799999999999999,
          0.9999999999999999
         ],
         "matches": "x",
         "title": {},
         "type": "category"
        },
        "yaxis": {
         "anchor": "x",
         "domain": [
          0,
          1
         ],
         "title": {
          "text": "Primary Strategy Distribution"
         }
        },
        "yaxis2": {
         "anchor": "x2",
         "domain": [
          0,
          1
         ],
         "matches": "y",
         "showticklabels": false
        },
        "yaxis3": {
         "anchor": "x3",
         "domain": [
          0,
          1
         ],
         "matches": "y",
         "showticklabels": false
        }
       }
      }
     },
     "metadata": {},
     "output_type": "display_data"
    }
   ],
   "source": [
    "# another bubble plot for better format\n",
    "\n",
    "fig = px.scatter(grouped_po, x='initial_cooperate_prob_cat', y='primary_ratio_cat', \n",
    "                 size='Average Score(Frequency Dependent)', \n",
    "                 color='primary_strategy', \n",
    "                 facet_col='primary_strategy',\n",
    "                 category_orders={\"primary_strategy\": [\"Frequency Dependent Learning\", \"Success Base Learning\", \"Random Copying\"]},\n",
    "                 color_discrete_map=color_palette,\n",
    "                 size_max=60, labels={\n",
    "                     \"initial_cooperate_prob_cat\": \"Initial Cooperation Probability\",\n",
    "                     \"primary_ratio_cat\": \"Primary Strategy Distribution\",\n",
    "                     \"Average Score(Frequency Dependent)\": \"Average Score\"\n",
    "                 })\n",
    "\n",
    "\n",
    "fig.update_layout(\n",
    "    plot_bgcolor='floralwhite', \n",
    "    legend_title_text='Strategy',\n",
    "    yaxis_title=\"Primary Strategy Distribution\",\n",
    "    legend=dict(itemsizing='constant'),\n",
    "    showlegend = False\n",
    ")\n",
    "\n",
    "fig.layout.legend = None\n",
    "\n",
    "\n",
    "subplot_titles = ['a) Frequency Dependent Learning', 'b) Success Base Learning', 'c) Random Copying']\n",
    "for i, subplot_title in enumerate(subplot_titles, 1):\n",
    "    fig.layout.annotations[i-1].text = subplot_title\n",
    "\n",
    "\n",
    "fig.update_xaxes(title=None, type='category')\n",
    "\n",
    "\n",
    "fig.add_annotation(\n",
    "    text=\"Initial Cooperation Probability\",  \n",
    "    xref=\"paper\", yref=\"paper\",\n",
    "    x=0.5, y=-0.2, \n",
    "    showarrow=False, \n",
    "    font=dict(size=12, color=\"black\"), \n",
    "    align=\"center\"\n",
    ")\n",
    "\n",
    "fig.show()"
   ]
  },
  {
   "cell_type": "code",
   "execution_count": 181,
   "metadata": {},
   "outputs": [
    {
     "name": "stdout",
     "output_type": "stream",
     "text": [
      "Results for Average Score(Frequency Dependent):\n",
      "                                       OLS Regression Results                                      \n",
      "===================================================================================================\n",
      "Dep. Variable:     Q('Average Score(Frequency Dependent)')   R-squared:                       0.057\n",
      "Model:                                                 OLS   Adj. R-squared:                  0.057\n",
      "Method:                                      Least Squares   F-statistic:                     505.4\n",
      "Date:                                     Mon, 06 May 2024   Prob (F-statistic):               0.00\n",
      "Time:                                             01:04:52   Log-Likelihood:            -4.1086e+05\n",
      "No. Observations:                                    58320   AIC:                         8.217e+05\n",
      "Df Residuals:                                        58312   BIC:                         8.218e+05\n",
      "Df Model:                                                7                                         \n",
      "Covariance Type:                                 nonrobust                                         \n",
      "==================================================================================================================\n",
      "                                                     coef    std err          t      P>|t|      [0.025      0.975]\n",
      "------------------------------------------------------------------------------------------------------------------\n",
      "Intercept                                        186.4305      2.674     69.729      0.000     181.190     191.671\n",
      "C(primary_ratio)[T.0.53]                          32.4127      2.815     11.514      0.000      26.895      37.931\n",
      "C(primary_ratio)[T.0.73]                          70.4032      2.815     25.008      0.000      64.885      75.921\n",
      "C(initial_cooperate_prob)[T.0.5]                   5.2145      2.815      1.852      0.064      -0.303      10.732\n",
      "C(initial_cooperate_prob)[T.0.75]                -61.8686      2.815    -21.977      0.000     -67.386     -56.351\n",
      "C(Game_Type)[T.No Incentive]                    -201.8177      9.847    -20.495      0.000    -221.118    -182.517\n",
      "C(Game_Type)[T.Stag Hunt]                         73.4832      3.373     21.788      0.000      66.873      80.094\n",
      "C(Game_Type)[T.Traditional Prisoner's Dilemma]   126.5870      3.373     37.533      0.000     119.976     133.198\n",
      "==============================================================================\n",
      "Omnibus:                    21189.373   Durbin-Watson:                   1.153\n",
      "Prob(Omnibus):                  0.000   Jarque-Bera (JB):            72642.384\n",
      "Skew:                           1.866   Prob(JB):                         0.00\n",
      "Kurtosis:                       6.996   Cond. No.                         10.6\n",
      "==============================================================================\n",
      "\n",
      "Notes:\n",
      "[1] Standard Errors assume that the covariance matrix of the errors is correctly specified.\n",
      "\n",
      "\n",
      "Results for Average Score(Success Base):\n",
      "                                   OLS Regression Results                                   \n",
      "============================================================================================\n",
      "Dep. Variable:     Q('Average Score(Success Base)')   R-squared:                       0.060\n",
      "Model:                                          OLS   Adj. R-squared:                  0.060\n",
      "Method:                               Least Squares   F-statistic:                     534.7\n",
      "Date:                              Mon, 06 May 2024   Prob (F-statistic):               0.00\n",
      "Time:                                      01:04:52   Log-Likelihood:            -4.1318e+05\n",
      "No. Observations:                             58320   AIC:                         8.264e+05\n",
      "Df Residuals:                                 58312   BIC:                         8.265e+05\n",
      "Df Model:                                         7                                         \n",
      "Covariance Type:                          nonrobust                                         \n",
      "==================================================================================================================\n",
      "                                                     coef    std err          t      P>|t|      [0.025      0.975]\n",
      "------------------------------------------------------------------------------------------------------------------\n",
      "Intercept                                        217.0700      2.782     78.013      0.000     211.616     222.524\n",
      "C(primary_ratio)[T.0.53]                          36.8705      2.930     12.585      0.000      31.128      42.613\n",
      "C(primary_ratio)[T.0.73]                          85.2992      2.930     29.114      0.000      79.557      91.042\n",
      "C(initial_cooperate_prob)[T.0.5]                 -16.9176      2.930     -5.774      0.000     -22.660     -11.175\n",
      "C(initial_cooperate_prob)[T.0.75]                -85.2075      2.930    -29.083      0.000     -90.950     -79.465\n",
      "C(Game_Type)[T.No Incentive]                    -223.7515     10.248    -21.833      0.000    -243.838    -203.665\n",
      "C(Game_Type)[T.Stag Hunt]                         76.9232      3.510     21.915      0.000      70.044      83.803\n",
      "C(Game_Type)[T.Traditional Prisoner's Dilemma]   114.1511      3.510     32.522      0.000     107.271     121.031\n",
      "==============================================================================\n",
      "Omnibus:                    19523.165   Durbin-Watson:                   1.160\n",
      "Prob(Omnibus):                  0.000   Jarque-Bera (JB):            59920.552\n",
      "Skew:                           1.757   Prob(JB):                         0.00\n",
      "Kurtosis:                       6.509   Cond. No.                         10.6\n",
      "==============================================================================\n",
      "\n",
      "Notes:\n",
      "[1] Standard Errors assume that the covariance matrix of the errors is correctly specified.\n",
      "\n",
      "\n",
      "Results for Average Score(Random Copying):\n",
      "                                    OLS Regression Results                                    \n",
      "==============================================================================================\n",
      "Dep. Variable:     Q('Average Score(Random Copying)')   R-squared:                       0.057\n",
      "Model:                                            OLS   Adj. R-squared:                  0.057\n",
      "Method:                                 Least Squares   F-statistic:                     504.1\n",
      "Date:                                Mon, 06 May 2024   Prob (F-statistic):               0.00\n",
      "Time:                                        01:04:52   Log-Likelihood:            -4.1167e+05\n",
      "No. Observations:                               58320   AIC:                         8.234e+05\n",
      "Df Residuals:                                   58312   BIC:                         8.234e+05\n",
      "Df Model:                                           7                                         \n",
      "Covariance Type:                            nonrobust                                         \n",
      "==================================================================================================================\n",
      "                                                     coef    std err          t      P>|t|      [0.025      0.975]\n",
      "------------------------------------------------------------------------------------------------------------------\n",
      "Intercept                                        200.5595      2.711     73.972      0.000     195.245     205.874\n",
      "C(primary_ratio)[T.0.53]                          33.0438      2.855     11.575      0.000      27.448      38.639\n",
      "C(primary_ratio)[T.0.73]                          70.6760      2.855     24.756      0.000      65.080      76.272\n",
      "C(initial_cooperate_prob)[T.0.5]                  -2.4870      2.855     -0.871      0.384      -8.082       3.109\n",
      "C(initial_cooperate_prob)[T.0.75]                -71.1932      2.855    -24.938      0.000     -76.789     -65.598\n",
      "C(Game_Type)[T.No Incentive]                    -210.5727      9.986    -21.087      0.000    -230.145    -191.000\n",
      "C(Game_Type)[T.Stag Hunt]                         75.5694      3.420     22.095      0.000      68.866      82.273\n",
      "C(Game_Type)[T.Traditional Prisoner's Dilemma]   121.8369      3.420     35.623      0.000     115.133     128.541\n",
      "==============================================================================\n",
      "Omnibus:                    20529.450   Durbin-Watson:                   1.133\n",
      "Prob(Omnibus):                  0.000   Jarque-Bera (JB):            67444.618\n",
      "Skew:                           1.822   Prob(JB):                         0.00\n",
      "Kurtosis:                       6.806   Cond. No.                         10.6\n",
      "==============================================================================\n",
      "\n",
      "Notes:\n",
      "[1] Standard Errors assume that the covariance matrix of the errors is correctly specified.\n",
      "\n",
      "\n",
      "Results for Proportion of Cooperating Agents:\n",
      "                                      OLS Regression Results                                     \n",
      "=================================================================================================\n",
      "Dep. Variable:     Q('Proportion of Cooperating Agents')   R-squared:                       0.118\n",
      "Model:                                               OLS   Adj. R-squared:                  0.118\n",
      "Method:                                    Least Squares   F-statistic:                     1113.\n",
      "Date:                                   Mon, 06 May 2024   Prob (F-statistic):               0.00\n",
      "Time:                                           01:04:52   Log-Likelihood:                -29519.\n",
      "No. Observations:                                  58320   AIC:                         5.905e+04\n",
      "Df Residuals:                                      58312   BIC:                         5.913e+04\n",
      "Df Model:                                              7                                         \n",
      "Covariance Type:                               nonrobust                                         \n",
      "==================================================================================================================\n",
      "                                                     coef    std err          t      P>|t|      [0.025      0.975]\n",
      "------------------------------------------------------------------------------------------------------------------\n",
      "Intercept                                          0.6566      0.004    169.806      0.000       0.649       0.664\n",
      "C(primary_ratio)[T.0.53]                          -0.0067      0.004     -1.651      0.099      -0.015       0.001\n",
      "C(primary_ratio)[T.0.73]                          -0.0621      0.004    -15.260      0.000      -0.070      -0.054\n",
      "C(initial_cooperate_prob)[T.0.5]                   0.1043      0.004     25.627      0.000       0.096       0.112\n",
      "C(initial_cooperate_prob)[T.0.75]                  0.1297      0.004     31.842      0.000       0.122       0.138\n",
      "C(Game_Type)[T.No Incentive]                      -0.2138      0.014    -15.013      0.000      -0.242      -0.186\n",
      "C(Game_Type)[T.Stag Hunt]                          0.2524      0.005     51.745      0.000       0.243       0.262\n",
      "C(Game_Type)[T.Traditional Prisoner's Dilemma]    -0.2417      0.005    -49.556      0.000      -0.251      -0.232\n",
      "==============================================================================\n",
      "Omnibus:                    10610.021   Durbin-Watson:                   0.573\n",
      "Prob(Omnibus):                  0.000   Jarque-Bera (JB):             7982.853\n",
      "Skew:                          -0.806   Prob(JB):                         0.00\n",
      "Kurtosis:                       2.171   Cond. No.                         10.6\n",
      "==============================================================================\n",
      "\n",
      "Notes:\n",
      "[1] Standard Errors assume that the covariance matrix of the errors is correctly specified.\n",
      "\n",
      "\n",
      "                                      OLS Regression Results                                     \n",
      "=================================================================================================\n",
      "Dep. Variable:     Q('Proportion of Cooperating Agents')   R-squared:                       0.118\n",
      "Model:                                               OLS   Adj. R-squared:                  0.118\n",
      "Method:                                    Least Squares   F-statistic:                     1113.\n",
      "Date:                                   Mon, 06 May 2024   Prob (F-statistic):               0.00\n",
      "Time:                                           01:04:52   Log-Likelihood:                -29519.\n",
      "No. Observations:                                  58320   AIC:                         5.905e+04\n",
      "Df Residuals:                                      58312   BIC:                         5.913e+04\n",
      "Df Model:                                              7                                         \n",
      "Covariance Type:                               nonrobust                                         \n",
      "==================================================================================================================\n",
      "                                                     coef    std err          t      P>|t|      [0.025      0.975]\n",
      "------------------------------------------------------------------------------------------------------------------\n",
      "Intercept                                          0.6566      0.004    169.806      0.000       0.649       0.664\n",
      "C(primary_ratio)[T.0.53]                          -0.0067      0.004     -1.651      0.099      -0.015       0.001\n",
      "C(primary_ratio)[T.0.73]                          -0.0621      0.004    -15.260      0.000      -0.070      -0.054\n",
      "C(initial_cooperate_prob)[T.0.5]                   0.1043      0.004     25.627      0.000       0.096       0.112\n",
      "C(initial_cooperate_prob)[T.0.75]                  0.1297      0.004     31.842      0.000       0.122       0.138\n",
      "C(Game_Type)[T.No Incentive]                      -0.2138      0.014    -15.013      0.000      -0.242      -0.186\n",
      "C(Game_Type)[T.Stag Hunt]                          0.2524      0.005     51.745      0.000       0.243       0.262\n",
      "C(Game_Type)[T.Traditional Prisoner's Dilemma]    -0.2417      0.005    -49.556      0.000      -0.251      -0.232\n",
      "==============================================================================\n",
      "Omnibus:                    10610.021   Durbin-Watson:                   0.573\n",
      "Prob(Omnibus):                  0.000   Jarque-Bera (JB):             7982.853\n",
      "Skew:                          -0.806   Prob(JB):                         0.00\n",
      "Kurtosis:                       2.171   Cond. No.                         10.6\n",
      "==============================================================================\n",
      "\n",
      "Notes:\n",
      "[1] Standard Errors assume that the covariance matrix of the errors is correctly specified.\n"
     ]
    }
   ],
   "source": [
    "# regression model \n",
    "\n",
    "# prepare data for regression\n",
    "last_steps['primary_ratio'] = last_steps['primary_ratio'].astype('category')\n",
    "last_steps['initial_cooperate_prob'] = last_steps['initial_cooperate_prob'].astype('category')\n",
    "last_steps['Game_Type'] = last_steps['Game_Type'].astype('category')\n",
    "\n",
    "last_steps['total_agents'] = last_steps['Cooperating Agents'] + last_steps['Defecting Agents']\n",
    "last_steps['Proportion of Cooperating Agents'] = last_steps['Cooperating Agents'] / last_steps['total_agents']\n",
    "\n",
    "# separate regression models for each dependent variable\n",
    "dependent_vars = ['Average Score(Frequency Dependent)', 'Average Score(Success Base)', 'Average Score(Random Copying)', 'Proportion of Cooperating Agents']\n",
    "results = {}\n",
    "for var in dependent_vars:\n",
    "    formula = f\"Q('{var}') ~ C(primary_ratio) + C(initial_cooperate_prob) + C(Game_Type)\"\n",
    "    model = smf.ols(formula, data=last_steps).fit()\n",
    "    results[var] = model.summary()\n",
    "\n",
    "for result in results:\n",
    "    print(f\"Results for {result}:\\n{results[result]}\\n\\n\")\n",
    "print(model.summary())\n"
   ]
  },
  {
   "cell_type": "code",
   "execution_count": 182,
   "metadata": {},
   "outputs": [
    {
     "data": {
      "text/html": [
       "<div>\n",
       "<style scoped>\n",
       "    .dataframe tbody tr th:only-of-type {\n",
       "        vertical-align: middle;\n",
       "    }\n",
       "\n",
       "    .dataframe tbody tr th {\n",
       "        vertical-align: top;\n",
       "    }\n",
       "\n",
       "    .dataframe thead th {\n",
       "        text-align: right;\n",
       "    }\n",
       "</style>\n",
       "<table border=\"1\" class=\"dataframe\">\n",
       "  <thead>\n",
       "    <tr style=\"text-align: right;\">\n",
       "      <th></th>\n",
       "      <th>Average Score(Frequency Dependent)</th>\n",
       "      <th>Average Score(Success Base)</th>\n",
       "      <th>Average Score(Random Copying)</th>\n",
       "      <th>Proportion of Cooperating Agents</th>\n",
       "    </tr>\n",
       "  </thead>\n",
       "  <tbody>\n",
       "    <tr>\n",
       "      <th>Intercept</th>\n",
       "      <td>**186.43 (181.2, 191.7)**</td>\n",
       "      <td>**217.07 (211.6, 222.5)**</td>\n",
       "      <td>**200.56 (195.2, 205.9)**</td>\n",
       "      <td>**0.66 (0.6, 0.7)**</td>\n",
       "    </tr>\n",
       "    <tr>\n",
       "      <th>C(primary_ratio)[T.0.53]</th>\n",
       "      <td>**32.41 (26.9, 37.9)**</td>\n",
       "      <td>**36.87 (31.1, 42.6)**</td>\n",
       "      <td>**33.04 (27.4, 38.6)**</td>\n",
       "      <td>-0.01 (-0.0, 0.0)</td>\n",
       "    </tr>\n",
       "    <tr>\n",
       "      <th>C(primary_ratio)[T.0.73]</th>\n",
       "      <td>**70.40 (64.9, 75.9)**</td>\n",
       "      <td>**85.30 (79.6, 91.0)**</td>\n",
       "      <td>**70.68 (65.1, 76.3)**</td>\n",
       "      <td>**-0.06 (-0.1, -0.1)**</td>\n",
       "    </tr>\n",
       "    <tr>\n",
       "      <th>C(initial_cooperate_prob)[T.0.5]</th>\n",
       "      <td>5.21 (-0.3, 10.7)</td>\n",
       "      <td>**-16.92 (-22.7, -11.2)**</td>\n",
       "      <td>-2.49 (-8.1, 3.1)</td>\n",
       "      <td>**0.10 (0.1, 0.1)**</td>\n",
       "    </tr>\n",
       "    <tr>\n",
       "      <th>C(initial_cooperate_prob)[T.0.75]</th>\n",
       "      <td>**-61.87 (-67.4, -56.4)**</td>\n",
       "      <td>**-85.21 (-90.9, -79.5)**</td>\n",
       "      <td>**-71.19 (-76.8, -65.6)**</td>\n",
       "      <td>**0.13 (0.1, 0.1)**</td>\n",
       "    </tr>\n",
       "    <tr>\n",
       "      <th>C(Game_Type)[T.No Incentive]</th>\n",
       "      <td>**-201.82 (-221.1, -182.5)**</td>\n",
       "      <td>**-223.75 (-243.8, -203.7)**</td>\n",
       "      <td>**-210.57 (-230.1, -191.0)**</td>\n",
       "      <td>**-0.21 (-0.2, -0.2)**</td>\n",
       "    </tr>\n",
       "    <tr>\n",
       "      <th>C(Game_Type)[T.Stag Hunt]</th>\n",
       "      <td>**73.48 (66.9, 80.1)**</td>\n",
       "      <td>**76.92 (70.0, 83.8)**</td>\n",
       "      <td>**75.57 (68.9, 82.3)**</td>\n",
       "      <td>**0.25 (0.2, 0.3)**</td>\n",
       "    </tr>\n",
       "    <tr>\n",
       "      <th>C(Game_Type)[T.Traditional Prisoner's Dilemma]</th>\n",
       "      <td>**126.59 (120.0, 133.2)**</td>\n",
       "      <td>**114.15 (107.3, 121.0)**</td>\n",
       "      <td>**121.84 (115.1, 128.5)**</td>\n",
       "      <td>**-0.24 (-0.3, -0.2)**</td>\n",
       "    </tr>\n",
       "  </tbody>\n",
       "</table>\n",
       "</div>"
      ],
      "text/plain": [
       "                                               Average Score(Frequency Dependent)  \\\n",
       "Intercept                                               **186.43 (181.2, 191.7)**   \n",
       "C(primary_ratio)[T.0.53]                                   **32.41 (26.9, 37.9)**   \n",
       "C(primary_ratio)[T.0.73]                                   **70.40 (64.9, 75.9)**   \n",
       "C(initial_cooperate_prob)[T.0.5]                                5.21 (-0.3, 10.7)   \n",
       "C(initial_cooperate_prob)[T.0.75]                       **-61.87 (-67.4, -56.4)**   \n",
       "C(Game_Type)[T.No Incentive]                         **-201.82 (-221.1, -182.5)**   \n",
       "C(Game_Type)[T.Stag Hunt]                                  **73.48 (66.9, 80.1)**   \n",
       "C(Game_Type)[T.Traditional Prisoner's Dilemma]          **126.59 (120.0, 133.2)**   \n",
       "\n",
       "                                                 Average Score(Success Base)  \\\n",
       "Intercept                                          **217.07 (211.6, 222.5)**   \n",
       "C(primary_ratio)[T.0.53]                              **36.87 (31.1, 42.6)**   \n",
       "C(primary_ratio)[T.0.73]                              **85.30 (79.6, 91.0)**   \n",
       "C(initial_cooperate_prob)[T.0.5]                   **-16.92 (-22.7, -11.2)**   \n",
       "C(initial_cooperate_prob)[T.0.75]                  **-85.21 (-90.9, -79.5)**   \n",
       "C(Game_Type)[T.No Incentive]                    **-223.75 (-243.8, -203.7)**   \n",
       "C(Game_Type)[T.Stag Hunt]                             **76.92 (70.0, 83.8)**   \n",
       "C(Game_Type)[T.Traditional Prisoner's Dilemma]     **114.15 (107.3, 121.0)**   \n",
       "\n",
       "                                               Average Score(Random Copying)  \\\n",
       "Intercept                                          **200.56 (195.2, 205.9)**   \n",
       "C(primary_ratio)[T.0.53]                              **33.04 (27.4, 38.6)**   \n",
       "C(primary_ratio)[T.0.73]                              **70.68 (65.1, 76.3)**   \n",
       "C(initial_cooperate_prob)[T.0.5]                           -2.49 (-8.1, 3.1)   \n",
       "C(initial_cooperate_prob)[T.0.75]                  **-71.19 (-76.8, -65.6)**   \n",
       "C(Game_Type)[T.No Incentive]                    **-210.57 (-230.1, -191.0)**   \n",
       "C(Game_Type)[T.Stag Hunt]                             **75.57 (68.9, 82.3)**   \n",
       "C(Game_Type)[T.Traditional Prisoner's Dilemma]     **121.84 (115.1, 128.5)**   \n",
       "\n",
       "                                               Proportion of Cooperating Agents  \n",
       "Intercept                                                   **0.66 (0.6, 0.7)**  \n",
       "C(primary_ratio)[T.0.53]                                      -0.01 (-0.0, 0.0)  \n",
       "C(primary_ratio)[T.0.73]                                 **-0.06 (-0.1, -0.1)**  \n",
       "C(initial_cooperate_prob)[T.0.5]                            **0.10 (0.1, 0.1)**  \n",
       "C(initial_cooperate_prob)[T.0.75]                           **0.13 (0.1, 0.1)**  \n",
       "C(Game_Type)[T.No Incentive]                             **-0.21 (-0.2, -0.2)**  \n",
       "C(Game_Type)[T.Stag Hunt]                                   **0.25 (0.2, 0.3)**  \n",
       "C(Game_Type)[T.Traditional Prisoner's Dilemma]           **-0.24 (-0.3, -0.2)**  "
      ]
     },
     "metadata": {},
     "output_type": "display_data"
    }
   ],
   "source": [
    "# creating the table for the results from the model\n",
    "\n",
    "models = {}\n",
    "for var in dependent_vars:\n",
    "    formula = f\"Q('{var}') ~ C(primary_ratio) + C(initial_cooperate_prob) + C(Game_Type)\"\n",
    "    models[var] = smf.ols(formula, data=last_steps).fit()\n",
    "\n",
    "# initialize dataFrame \n",
    "predictors = [\n",
    "    'Intercept', \n",
    "    'C(primary_ratio)[T.0.53]', \n",
    "    'C(primary_ratio)[T.0.73]', \n",
    "    'C(initial_cooperate_prob)[T.0.5]', \n",
    "    'C(initial_cooperate_prob)[T.0.75]', \n",
    "    'C(Game_Type)[T.No Incentive]', \n",
    "    'C(Game_Type)[T.Stag Hunt]', \n",
    "    'C(Game_Type)[T.Traditional Prisoner\\'s Dilemma]'\n",
    "]\n",
    "columns = [\n",
    "    'Average Score(Frequency Dependent)', \n",
    "    'Average Score(Success Base)', \n",
    "    'Average Score(Random Copying)', \n",
    "    'Proportion of Cooperating Agents'\n",
    "]\n",
    "\n",
    "# create empty DataFrame\n",
    "summary_df = pd.DataFrame(index=predictors, columns=columns)\n",
    "\n",
    "# fill the DataFrame \n",
    "for var in columns:\n",
    "    model = models[var]\n",
    "    params = model.params\n",
    "    conf_lower = model.conf_int()[0]\n",
    "    conf_upper = model.conf_int()[1]\n",
    "    pvalues = model.pvalues\n",
    "\n",
    "    for pred in predictors:\n",
    "        pred_key = 'Intercept' if pred == 'Intercept' else f\"{pred}\"  \n",
    "        if pred_key in params.index:\n",
    "            value = f\"{params[pred_key]:.2f} ({conf_lower[pred_key]:.1f}, {conf_upper[pred_key]:.1f})\"\n",
    "            # bolden the value if p-value is significant\n",
    "            formatted_value = f\"**{value}**\" if pvalues[pred_key] < 0.05 else value\n",
    "            summary_df.at[pred, var] = formatted_value\n",
    "        else:\n",
    "            summary_df.at[pred, var] = 'n/a'\n",
    "\n",
    "\n",
    "display(summary_df)"
   ]
  },
  {
   "cell_type": "code",
   "execution_count": 183,
   "metadata": {},
   "outputs": [
    {
     "data": {
      "text/html": [
       "<div>\n",
       "<style scoped>\n",
       "    .dataframe tbody tr th:only-of-type {\n",
       "        vertical-align: middle;\n",
       "    }\n",
       "\n",
       "    .dataframe tbody tr th {\n",
       "        vertical-align: top;\n",
       "    }\n",
       "\n",
       "    .dataframe thead th {\n",
       "        text-align: right;\n",
       "    }\n",
       "</style>\n",
       "<table border=\"1\" class=\"dataframe\">\n",
       "  <thead>\n",
       "    <tr style=\"text-align: right;\">\n",
       "      <th></th>\n",
       "      <th>Average Score(Frequency Dependent)</th>\n",
       "      <th>Average Score(Success Base)</th>\n",
       "      <th>Average Score(Random Copying)</th>\n",
       "      <th>Proportion of Cooperating Agents</th>\n",
       "    </tr>\n",
       "  </thead>\n",
       "  <tbody>\n",
       "    <tr>\n",
       "      <th>Intercept</th>\n",
       "      <td>**186.43 (181.2, 191.7)**</td>\n",
       "      <td>**217.07 (211.6, 222.5)**</td>\n",
       "      <td>**200.56 (195.2, 205.9)**</td>\n",
       "      <td>**0.66 (0.6, 0.7)**</td>\n",
       "    </tr>\n",
       "    <tr>\n",
       "      <th>Primary Ratio 53%</th>\n",
       "      <td>**32.41 (26.9, 37.9)**</td>\n",
       "      <td>**36.87 (31.1, 42.6)**</td>\n",
       "      <td>**33.04 (27.4, 38.6)**</td>\n",
       "      <td>-0.01 (-0.0, 0.0)</td>\n",
       "    </tr>\n",
       "    <tr>\n",
       "      <th>Primary Ratio 73%</th>\n",
       "      <td>**70.40 (64.9, 75.9)**</td>\n",
       "      <td>**85.30 (79.6, 91.0)**</td>\n",
       "      <td>**70.68 (65.1, 76.3)**</td>\n",
       "      <td>**-0.06 (-0.1, -0.1)**</td>\n",
       "    </tr>\n",
       "    <tr>\n",
       "      <th>Initial Cooperation Prob. 50%</th>\n",
       "      <td>5.21 (-0.3, 10.7)</td>\n",
       "      <td>**-16.92 (-22.7, -11.2)**</td>\n",
       "      <td>-2.49 (-8.1, 3.1)</td>\n",
       "      <td>**0.10 (0.1, 0.1)**</td>\n",
       "    </tr>\n",
       "    <tr>\n",
       "      <th>Initial Cooperation Prob. 75%</th>\n",
       "      <td>**-61.87 (-67.4, -56.4)**</td>\n",
       "      <td>**-85.21 (-90.9, -79.5)**</td>\n",
       "      <td>**-71.19 (-76.8, -65.6)**</td>\n",
       "      <td>**0.13 (0.1, 0.1)**</td>\n",
       "    </tr>\n",
       "    <tr>\n",
       "      <th>Game Type: No Incentive</th>\n",
       "      <td>**-201.82 (-221.1, -182.5)**</td>\n",
       "      <td>**-223.75 (-243.8, -203.7)**</td>\n",
       "      <td>**-210.57 (-230.1, -191.0)**</td>\n",
       "      <td>**-0.21 (-0.2, -0.2)**</td>\n",
       "    </tr>\n",
       "    <tr>\n",
       "      <th>Game Type: Stag Hunt</th>\n",
       "      <td>**73.48 (66.9, 80.1)**</td>\n",
       "      <td>**76.92 (70.0, 83.8)**</td>\n",
       "      <td>**75.57 (68.9, 82.3)**</td>\n",
       "      <td>**0.25 (0.2, 0.3)**</td>\n",
       "    </tr>\n",
       "    <tr>\n",
       "      <th>Game Type: Traditional PD</th>\n",
       "      <td>**126.59 (120.0, 133.2)**</td>\n",
       "      <td>**114.15 (107.3, 121.0)**</td>\n",
       "      <td>**121.84 (115.1, 128.5)**</td>\n",
       "      <td>**-0.24 (-0.3, -0.2)**</td>\n",
       "    </tr>\n",
       "  </tbody>\n",
       "</table>\n",
       "</div>"
      ],
      "text/plain": [
       "                              Average Score(Frequency Dependent)  \\\n",
       "Intercept                              **186.43 (181.2, 191.7)**   \n",
       "Primary Ratio 53%                         **32.41 (26.9, 37.9)**   \n",
       "Primary Ratio 73%                         **70.40 (64.9, 75.9)**   \n",
       "Initial Cooperation Prob. 50%                  5.21 (-0.3, 10.7)   \n",
       "Initial Cooperation Prob. 75%          **-61.87 (-67.4, -56.4)**   \n",
       "Game Type: No Incentive             **-201.82 (-221.1, -182.5)**   \n",
       "Game Type: Stag Hunt                      **73.48 (66.9, 80.1)**   \n",
       "Game Type: Traditional PD              **126.59 (120.0, 133.2)**   \n",
       "\n",
       "                                Average Score(Success Base)  \\\n",
       "Intercept                         **217.07 (211.6, 222.5)**   \n",
       "Primary Ratio 53%                    **36.87 (31.1, 42.6)**   \n",
       "Primary Ratio 73%                    **85.30 (79.6, 91.0)**   \n",
       "Initial Cooperation Prob. 50%     **-16.92 (-22.7, -11.2)**   \n",
       "Initial Cooperation Prob. 75%     **-85.21 (-90.9, -79.5)**   \n",
       "Game Type: No Incentive        **-223.75 (-243.8, -203.7)**   \n",
       "Game Type: Stag Hunt                 **76.92 (70.0, 83.8)**   \n",
       "Game Type: Traditional PD         **114.15 (107.3, 121.0)**   \n",
       "\n",
       "                              Average Score(Random Copying)  \\\n",
       "Intercept                         **200.56 (195.2, 205.9)**   \n",
       "Primary Ratio 53%                    **33.04 (27.4, 38.6)**   \n",
       "Primary Ratio 73%                    **70.68 (65.1, 76.3)**   \n",
       "Initial Cooperation Prob. 50%             -2.49 (-8.1, 3.1)   \n",
       "Initial Cooperation Prob. 75%     **-71.19 (-76.8, -65.6)**   \n",
       "Game Type: No Incentive        **-210.57 (-230.1, -191.0)**   \n",
       "Game Type: Stag Hunt                 **75.57 (68.9, 82.3)**   \n",
       "Game Type: Traditional PD         **121.84 (115.1, 128.5)**   \n",
       "\n",
       "                              Proportion of Cooperating Agents  \n",
       "Intercept                                  **0.66 (0.6, 0.7)**  \n",
       "Primary Ratio 53%                            -0.01 (-0.0, 0.0)  \n",
       "Primary Ratio 73%                       **-0.06 (-0.1, -0.1)**  \n",
       "Initial Cooperation Prob. 50%              **0.10 (0.1, 0.1)**  \n",
       "Initial Cooperation Prob. 75%              **0.13 (0.1, 0.1)**  \n",
       "Game Type: No Incentive                 **-0.21 (-0.2, -0.2)**  \n",
       "Game Type: Stag Hunt                       **0.25 (0.2, 0.3)**  \n",
       "Game Type: Traditional PD               **-0.24 (-0.3, -0.2)**  "
      ]
     },
     "metadata": {},
     "output_type": "display_data"
    }
   ],
   "source": [
    "# better names for the table rows\n",
    "readable_names = {\n",
    "    'Intercept': 'Intercept',\n",
    "    'C(primary_ratio)[T.0.53]': 'Primary Ratio 53%',\n",
    "    'C(primary_ratio)[T.0.73]': 'Primary Ratio 73%',\n",
    "    'C(initial_cooperate_prob)[T.0.5]': 'Initial Cooperation Prob. 50%',\n",
    "    'C(initial_cooperate_prob)[T.0.75]': 'Initial Cooperation Prob. 75%',\n",
    "    'C(Game_Type)[T.No Incentive]': 'Game Type: No Incentive',\n",
    "    'C(Game_Type)[T.Stag Hunt]': 'Game Type: Stag Hunt',\n",
    "    'C(Game_Type)[T.Traditional Prisoner\\'s Dilemma]': 'Game Type: Traditional PD'\n",
    "}\n",
    "\n",
    "\n",
    "summary_df.rename(index=readable_names, inplace=True)\n",
    "display(summary_df)"
   ]
  }
 ],
 "metadata": {
  "kernelspec": {
   "display_name": "base",
   "language": "python",
   "name": "python3"
  },
  "language_info": {
   "codemirror_mode": {
    "name": "ipython",
    "version": 3
   },
   "file_extension": ".py",
   "mimetype": "text/x-python",
   "name": "python",
   "nbconvert_exporter": "python",
   "pygments_lexer": "ipython3",
   "version": "3.11.4"
  },
  "orig_nbformat": 4
 },
 "nbformat": 4,
 "nbformat_minor": 2
}
